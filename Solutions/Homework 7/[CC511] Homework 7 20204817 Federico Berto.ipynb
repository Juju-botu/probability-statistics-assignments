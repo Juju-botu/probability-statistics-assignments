{
 "cells": [
  {
   "cell_type": "markdown",
   "metadata": {},
   "source": [
    "# **Homework 7 - Federico Berto**"
   ]
  },
  {
   "cell_type": "code",
   "execution_count": 1,
   "metadata": {},
   "outputs": [],
   "source": [
    "# Useful libraries\n",
    "import numpy as np\n",
    "import pandas as pd\n",
    "import matplotlib.pyplot as plt\n",
    "from scipy import stats\n",
    "import statsmodels.stats.weightstats as sms\n",
    "from scipy.stats import t\n",
    "import math"
   ]
  },
  {
   "cell_type": "markdown",
   "metadata": {},
   "source": [
    "## 8.1.12 "
   ]
  },
  {
   "cell_type": "markdown",
   "metadata": {},
   "source": [
    "We first find $z_{0.05}$"
   ]
  },
  {
   "cell_type": "code",
   "execution_count": 2,
   "metadata": {},
   "outputs": [
    {
     "name": "stdout",
     "output_type": "stream",
     "text": [
      "z = 1.6449\n"
     ]
    }
   ],
   "source": [
    "d = stats.norm()\n",
    "print((\"z = {:.4f}\").format(d.ppf(0.95)))"
   ]
  },
  {
   "cell_type": "markdown",
   "metadata": {},
   "source": [
    "Therefore c becomes:\n",
    "\\begin{equation}\n",
    "c = \\bar{x} - \\frac{z_{\\alpha} \\sigma}{ \\sqrt{n}} = 11.80 - \\frac{1.645 \\times 2.0} {\\sqrt{19}} = 11.045\n",
    "\\end{equation}"
   ]
  },
  {
   "cell_type": "markdown",
   "metadata": {},
   "source": [
    "## 8.1.16"
   ]
  },
  {
   "cell_type": "markdown",
   "metadata": {},
   "source": [
    "The interval can be written as: $(6.861 - 0.193, 6.861 + 0.193)$. We can get $\\alpha$ from the t-distribution, given that: \n",
    "\\begin{equation}\n",
    "t_{\\alpha / 2 , n-1} = \\frac{0.193 \\sqrt{n}}{S} = \\frac{0.193 \\sqrt{16}}{0.440} = 1.7545\n",
    "\\end{equation}"
   ]
  },
  {
   "cell_type": "code",
   "execution_count": 3,
   "metadata": {},
   "outputs": [
    {
     "name": "stdout",
     "output_type": "stream",
     "text": [
      "Alpha/2 = 0.0499\n"
     ]
    }
   ],
   "source": [
    "from scipy.stats import t\n",
    "print((\"Alpha/2 = {:.4f}\").format(t.sf(1.754, 15)))"
   ]
  },
  {
   "cell_type": "markdown",
   "metadata": {},
   "source": [
    "So, the confidence level is $1- 2 (\\alpha / 2) = 1 - 2 \\times 0.05 = 0.90$"
   ]
  },
  {
   "cell_type": "markdown",
   "metadata": {},
   "source": [
    "## 8.2.4 "
   ]
  },
  {
   "cell_type": "markdown",
   "metadata": {},
   "source": [
    "The hypoteses are:\n",
    "- $H_0 : \\mu \\leq 70$\n",
    "- $H_A : \\mu > 70$\n",
    "Test statistics:\n",
    "\\begin{equation}\n",
    "t = \\frac{ \\sqrt{n} ( \\bar{x} - \\mu_0)}{S} =  \\frac{ \\sqrt{25} ( 71.97 - 70)}{7.44} = 1.324\n",
    "\\end{equation}\n",
    "Then we calculate the _p-value_ using the survival function"
   ]
  },
  {
   "cell_type": "code",
   "execution_count": 4,
   "metadata": {},
   "outputs": [
    {
     "name": "stdout",
     "output_type": "stream",
     "text": [
      "P-value using sf (1-cdf) = 0.0990\n"
     ]
    }
   ],
   "source": [
    "from scipy.stats import t\n",
    "print((\"P-value using sf (1-cdf) = {:.4f}\").format(t.sf(1.324, 24)))"
   ]
  },
  {
   "cell_type": "markdown",
   "metadata": {},
   "source": [
    "Given the significance level of 0.05, we can accept the hypotesis of the mean larger than 70 even though the p value is not too high"
   ]
  },
  {
   "cell_type": "markdown",
   "metadata": {},
   "source": [
    "## 8.2.10"
   ]
  },
  {
   "cell_type": "code",
   "execution_count": 5,
   "metadata": {},
   "outputs": [
    {
     "name": "stdout",
     "output_type": "stream",
     "text": [
      "Critical point when α = 0.10 = 1.2816\n",
      "Critical point when α = 0.01 = 2.3263\n"
     ]
    }
   ],
   "source": [
    "d = stats.norm()\n",
    "print((\"Critical point when α = 0.10 = {:.4f}\").format(d.ppf(1-0.10)))\n",
    "print((\"Critical point when α = 0.01 = {:.4f}\").format(d.ppf(1-0.01)))"
   ]
  },
  {
   "cell_type": "markdown",
   "metadata": {},
   "source": [
    "a) Null hypotesis is accepted when $z \\geq - 1.2816$\n",
    "\n",
    "b) Null hypotesis is rejected when $z < - 2.3263$\n"
   ]
  },
  {
   "cell_type": "markdown",
   "metadata": {},
   "source": [
    "c) The test statistics becomes:\n",
    "\\begin{equation}\n",
    "z = \\frac{ \\sqrt{n} ( \\bar{x} - \\mu_0)}{\\sigma} =  \\frac{ \\sqrt{29} ( 415.7 - 420 )}{10} = -2.3156\n",
    "\\end{equation}\n",
    "So the null hypotesis is rejected at size $\\alpha = 0.10$ and accepted for $\\alpha = 0.01$"
   ]
  },
  {
   "cell_type": "code",
   "execution_count": 6,
   "metadata": {},
   "outputs": [
    {
     "name": "stdout",
     "output_type": "stream",
     "text": [
      "d) P-value = 0.0103\n"
     ]
    }
   ],
   "source": [
    "d = stats.norm()\n",
    "print((\"d) P-value = {:.4f}\").format(d.cdf(-2.3156)))"
   ]
  },
  {
   "cell_type": "markdown",
   "metadata": {},
   "source": [
    "## 8.2.18 "
   ]
  },
  {
   "cell_type": "code",
   "execution_count": 7,
   "metadata": {},
   "outputs": [
    {
     "name": "stdout",
     "output_type": "stream",
     "text": [
      "       Paving Slab Weights\n",
      "count           125.000000\n",
      "mean              1.110536\n",
      "std               0.052997\n",
      "min               0.874000\n",
      "25%               1.083000\n",
      "50%               1.110000\n",
      "75%               1.140000\n",
      "max               1.257000\n"
     ]
    }
   ],
   "source": [
    "df=pd.read_excel('DS 6.1.7.xls')\n",
    "print(df.describe())"
   ]
  },
  {
   "cell_type": "markdown",
   "metadata": {},
   "source": [
    "We can consider the following hypoteses:\n",
    "- $H_0: \\mu = 1.1$\n",
    "- $H_A: \\mu \\neq 1.1$\n",
    "Test statistics:\n",
    "\\begin{equation}\n",
    "t = \\frac{ \\sqrt{n} ( \\bar{x} - \\mu_0)}{S} = \\frac{ \\sqrt{125} ( 1.1105 - 1.1)}{0.0529} = 2.23\n",
    "\\end{equation}"
   ]
  },
  {
   "cell_type": "code",
   "execution_count": 8,
   "metadata": {},
   "outputs": [
    {
     "name": "stdout",
     "output_type": "stream",
     "text": [
      "P-value  = 0.0275\n"
     ]
    }
   ],
   "source": [
    "print((\"P-value  = {:.4f}\").format(2*t.sf(2.23, 124)))"
   ]
  },
  {
   "cell_type": "markdown",
   "metadata": {},
   "source": [
    "Given the significance level of 0.05, we should then reject the hypotesis and state that the manufacturing process probably needs some adjusting"
   ]
  },
  {
   "cell_type": "markdown",
   "metadata": {},
   "source": [
    "## 8.2.28"
   ]
  },
  {
   "cell_type": "code",
   "execution_count": 9,
   "metadata": {},
   "outputs": [
    {
     "name": "stdout",
     "output_type": "stream",
     "text": [
      "Critical point when α/2 = 0.05 = 1.7291\n",
      "Critical point when α/2 = 0.005 = 2.8609\n"
     ]
    }
   ],
   "source": [
    "print((\"Critical point when α/2 = 0.05 = {:.4f}\").format(t.ppf(0.95, 19)))\n",
    "print((\"Critical point when α/2 = 0.005 = {:.4f}\").format(t.ppf(0.995, 19)))"
   ]
  },
  {
   "cell_type": "markdown",
   "metadata": {},
   "source": [
    "a) Null hypotesis is accepted when $\\mid t \\mid < 1.7291$\n",
    "\n",
    "b) Null hypotesis is rejected when $\\mid t \\mid \\geq 2.8609$\n"
   ]
  },
  {
   "cell_type": "markdown",
   "metadata": {},
   "source": [
    "c) The test statistics becomes:\n",
    "\\begin{equation}\n",
    "t = \\frac{ \\sqrt{n} ( \\bar{x} - \\mu_0)}{\\sigma} =  \\frac{ \\sqrt{20} ( 436.5 - 430 )}{11.90} = 2.4428\n",
    "\\end{equation}\n",
    "So the null hypotesis is rejected at size $\\alpha = 0.10$ and accepted for $\\alpha = 0.01$"
   ]
  },
  {
   "cell_type": "code",
   "execution_count": 10,
   "metadata": {},
   "outputs": [
    {
     "name": "stdout",
     "output_type": "stream",
     "text": [
      "d) P-value = 0.0245\n"
     ]
    }
   ],
   "source": [
    "print((\"d) P-value = {:.4f}\").format(2*t.sf(2.4428, 19)))"
   ]
  },
  {
   "cell_type": "markdown",
   "metadata": {},
   "source": [
    "## 8.2.34 "
   ]
  },
  {
   "cell_type": "markdown",
   "metadata": {},
   "source": [
    "We will use a computer package to calculate the statistics directly given that $t = \\frac{ \\sqrt{n} ( \\bar{x} - \\mu_0)}{\\sigma}$"
   ]
  },
  {
   "cell_type": "code",
   "execution_count": 11,
   "metadata": {},
   "outputs": [
    {
     "name": "stdout",
     "output_type": "stream",
     "text": [
      "a) t = -3.2103\n",
      "   P-value = 0.0027\n"
     ]
    }
   ],
   "source": [
    "n = 39\n",
    "x_bar = 5532 \n",
    "mu_0 = 5680\n",
    "s = 287.9\n",
    "t_stat = math.sqrt(n)*(x_bar - mu_0)/s\n",
    "print((\"a) t = {:.4f}\").format(t_stat))\n",
    "print((\"   P-value = {:.4f}\").format(2*(t.sf(-t_stat, n-1))))\n",
    "\n"
   ]
  },
  {
   "cell_type": "code",
   "execution_count": 12,
   "metadata": {},
   "outputs": [
    {
     "name": "stdout",
     "output_type": "stream",
     "text": [
      "b) t = 1.7787\n",
      "   P-value = 0.0416\n"
     ]
    }
   ],
   "source": [
    "n = 39\n",
    "x_bar = 5532 \n",
    "mu_0 = 5450\n",
    "s = 287.9\n",
    "t_stat = math.sqrt(n)*(x_bar - mu_0)/s\n",
    "print((\"b) t = {:.4f}\").format(t_stat))\n",
    "print((\"   P-value = {:.4f}\").format(t.sf(t_stat, n-1)))"
   ]
  },
  {
   "cell_type": "markdown",
   "metadata": {},
   "source": [
    "## 8.6.5 "
   ]
  },
  {
   "cell_type": "code",
   "execution_count": 13,
   "metadata": {},
   "outputs": [
    {
     "name": "stdout",
     "output_type": "stream",
     "text": [
      "         Heights\n",
      "count  60.000000\n",
      "mean   69.618334\n",
      "std     1.523098\n",
      "min    66.900002\n",
      "25%    68.599998\n",
      "50%    69.500000\n",
      "75%    70.224998\n",
      "max    75.900002\n"
     ]
    }
   ],
   "source": [
    "df=pd.read_excel('DS 6.6.4.xls')\n",
    "print(df.describe())"
   ]
  },
  {
   "cell_type": "code",
   "execution_count": 14,
   "metadata": {},
   "outputs": [
    {
     "name": "stdout",
     "output_type": "stream",
     "text": [
      "Confidence interval with 90% confidence level: (69.2898)(69.9470)\n",
      "Confidence interval with 95% confidence level: (69.2249)(70.0119)\n",
      "Confidence interval with 99% confidence level: (69.0950)(70.1418)\n"
     ]
    }
   ],
   "source": [
    "n = 60\n",
    "x_bar = 69.6184 \n",
    "mu_0 = 70\n",
    "s = 1.5231\n",
    "alpha_1 = 0.1\n",
    "alpha_2 = 0.05\n",
    "alpha_3 = 0.01\n",
    "crit = t.ppf(1-alpha_1/2, n-1)\n",
    "wing_span = crit*s/(math.sqrt(n))\n",
    "print((\"Confidence interval with 90% confidence level: ({:.4f})({:.4f})\").format(x_bar - wing_span, x_bar+wing_span))\n",
    "crit = t.ppf(1-alpha_2/2, n-1)\n",
    "wing_span = crit*s/(math.sqrt(n))\n",
    "print((\"Confidence interval with 95% confidence level: ({:.4f})({:.4f})\").format(x_bar - wing_span, x_bar+wing_span))\n",
    "crit = t.ppf(1-alpha_3/2, n-1)\n",
    "wing_span = crit*s/(math.sqrt(n))\n",
    "print((\"Confidence interval with 99% confidence level: ({:.4f})({:.4f})\").format(x_bar - wing_span, x_bar+wing_span))"
   ]
  },
  {
   "cell_type": "markdown",
   "metadata": {},
   "source": [
    "Since 70 inches is included in the 95% confidence level, there is no strong evidence this value is not a plausible one for the mean"
   ]
  },
  {
   "cell_type": "markdown",
   "metadata": {},
   "source": [
    "## 8.6.18 "
   ]
  },
  {
   "cell_type": "markdown",
   "metadata": {},
   "source": [
    "Given that $t = \\frac{ \\sqrt{n} ( \\bar{x} - \\mu_0)}{S}$, we can use the following hypotesis test:\n",
    "- $H_0: \\mu = 385$\n",
    "- $H_A: \\mu \\neq 385$"
   ]
  },
  {
   "cell_type": "code",
   "execution_count": 15,
   "metadata": {},
   "outputs": [
    {
     "name": "stdout",
     "output_type": "stream",
     "text": [
      "t-statistics t = -3.0608\n",
      "P-value = 0.0044\n"
     ]
    }
   ],
   "source": [
    "n = 33\n",
    "x_bar = 382.97\n",
    "mu_0 = 385\n",
    "s = 3.81\n",
    "alpha = 0.01\n",
    "t_stat = math.sqrt(n)*(x_bar - mu_0)/s\n",
    "print((\"t-statistics t = {:.4f}\").format(t_stat))\n",
    "print((\"P-value = {:.4f}\").format(2*t.cdf(t_stat, n-1)))"
   ]
  },
  {
   "cell_type": "markdown",
   "metadata": {},
   "source": [
    "Given the P-value we can establish there is sufficient evidence the population mean is not 385"
   ]
  },
  {
   "cell_type": "code",
   "execution_count": 16,
   "metadata": {},
   "outputs": [
    {
     "name": "stdout",
     "output_type": "stream",
     "text": [
      "Confidence interval with 99% confidence level: (381.1537)(384.7863)\n"
     ]
    }
   ],
   "source": [
    "crit = t.ppf(1-alpha/2, n-1)\n",
    "wing_span = crit*s/(math.sqrt(n))\n",
    "print((\"Confidence interval with 99% confidence level: ({:.4f})({:.4f})\").format(x_bar - wing_span, x_bar+wing_span))"
   ]
  },
  {
   "cell_type": "markdown",
   "metadata": {},
   "source": [
    "## 8.6.48 "
   ]
  },
  {
   "cell_type": "markdown",
   "metadata": {},
   "source": [
    "Given that $t = \\frac{ \\sqrt{n} ( \\bar{x} - \\mu_0)}{S}$, we can use the following hypotesis test:\n",
    "- $H_0: \\mu \\geq 10$\n",
    "- $H_A: \\mu < 10$"
   ]
  },
  {
   "cell_type": "code",
   "execution_count": 17,
   "metadata": {},
   "outputs": [
    {
     "name": "stdout",
     "output_type": "stream",
     "text": [
      "t-statistics t = -3.7060\n",
      "P-value = 0.0003\n"
     ]
    }
   ],
   "source": [
    "n = 40\n",
    "x_bar = 9.39\n",
    "mu_0 = 10\n",
    "s = 1.041\n",
    "alpha = 0.01\n",
    "t_stat = math.sqrt(n)*(x_bar - mu_0)/s\n",
    "print((\"t-statistics t = {:.4f}\").format(t_stat))\n",
    "print((\"P-value = {:.4f}\").format(t.cdf(t_stat, n-1)))"
   ]
  },
  {
   "cell_type": "markdown",
   "metadata": {},
   "source": [
    "Given the extremely low P-value, we can safely reject the null hypotesis and assert that the phone surveys will last less than 10 minutes each on average "
   ]
  },
  {
   "cell_type": "code",
   "execution_count": 18,
   "metadata": {},
   "outputs": [
    {
     "name": "stdout",
     "output_type": "stream",
     "text": [
      "Confidence interval with 99% confidence level: (-∞)(9.7893)\n"
     ]
    }
   ],
   "source": [
    "crit = t.ppf(1-alpha, n-1)\n",
    "wing_span = crit*s/(math.sqrt(n))\n",
    "print((\"Confidence interval with 99% confidence level: (-∞)({:.4f})\").format(x_bar+wing_span))"
   ]
  }
 ],
 "metadata": {
  "kernelspec": {
   "display_name": "Python 3",
   "language": "python",
   "name": "python3"
  },
  "language_info": {
   "codemirror_mode": {
    "name": "ipython",
    "version": 3
   },
   "file_extension": ".py",
   "mimetype": "text/x-python",
   "name": "python",
   "nbconvert_exporter": "python",
   "pygments_lexer": "ipython3",
   "version": "3.8.5"
  },
  "toc-autonumbering": false
 },
 "nbformat": 4,
 "nbformat_minor": 4
}
