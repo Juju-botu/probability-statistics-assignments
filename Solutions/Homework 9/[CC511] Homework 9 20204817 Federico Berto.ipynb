{
 "cells": [
  {
   "cell_type": "markdown",
   "metadata": {},
   "source": [
    "# **Homework 9 - Federico Berto**"
   ]
  },
  {
   "cell_type": "code",
   "execution_count": 2,
   "metadata": {},
   "outputs": [],
   "source": [
    "# Importing useful libraries\n",
    "import numpy as np\n",
    "import pandas as pd\n",
    "import matplotlib.pyplot as plt\n",
    "from scipy import stats\n",
    "import statsmodels.stats.weightstats as sms\n",
    "from scipy.stats import t\n",
    "from scipy.stats import z\n",
    "from scipy.stats import norm\n",
    "import math"
   ]
  },
  {
   "cell_type": "markdown",
   "metadata": {},
   "source": [
    "## Exercise 10.1.4"
   ]
  },
  {
   "cell_type": "markdown",
   "metadata": {},
   "source": [
    "The 95% confidence can be calculated via $z_{0.05}$"
   ]
  },
  {
   "cell_type": "code",
   "execution_count": 8,
   "metadata": {},
   "outputs": [
    {
     "name": "stdout",
     "output_type": "stream",
     "text": [
      "1.6448536269514722\n"
     ]
    }
   ],
   "source": [
    "z = norm.ppf(1-0.05)\n",
    "print(z)"
   ]
  },
  {
   "cell_type": "markdown",
   "metadata": {},
   "source": [
    "The confidence interval is:\n",
    "\\begin{equation}\n",
    "    \\left( \\frac{35}{44} - \\frac{1.645}{44} \\times \\sqrt{\\frac{35 \\times (44-35)}{44} }, 1 \\right) = (0.695, 1)\n",
    "\\end{equation}"
   ]
  },
  {
   "cell_type": "markdown",
   "metadata": {},
   "source": [
    "## Exercise 10.1.8"
   ]
  },
  {
   "cell_type": "markdown",
   "metadata": {},
   "source": [
    "We know that $L = 2 z _{\\alpha/2} \\sqrt{\\frac{\\hat{p} (1-\\hat{p})}{n}}$,\n",
    "therefore:\n",
    "\\begin{equation}\n",
    "    n \\geq \\frac{4 z^2_{\\alpha/2} \\hat{p} (1-\\hat{p})}{L^2}\n",
    "\\end{equation}"
   ]
  },
  {
   "cell_type": "code",
   "execution_count": 9,
   "metadata": {},
   "outputs": [
    {
     "name": "stdout",
     "output_type": "stream",
     "text": [
      "2.5758293035489004\n"
     ]
    }
   ],
   "source": [
    "z = norm.ppf(1-0.005)\n",
    "print(z)"
   ]
  },
  {
   "cell_type": "markdown",
   "metadata": {},
   "source": [
    "Given L = 0.04, then we have for $\\hat{p} = 0.50$:\n",
    "\\begin{equation}\n",
    "    n \\geq \\frac{4 \\times 2.5758 \\times 0.50 (1-0.50)}{0.04^2} = 1609.9\n",
    "\\end{equation}\n",
    "\n",
    "So, n has to be at least 1610.\n",
    "\n",
    "If $\\hat{p} = 0.40$:\n",
    "\n",
    "\\begin{equation}\n",
    "    n \\geq \\frac{4 \\times 2.5758 \\times 0.40 (1-0.40)}{0.04^2} = 1545.5\n",
    "\\end{equation}\n",
    "\n",
    "In this case, n has to be at least 1546."
   ]
  },
  {
   "cell_type": "markdown",
   "metadata": {},
   "source": [
    "## Exercise 10.1.18"
   ]
  },
  {
   "cell_type": "markdown",
   "metadata": {},
   "source": [
    "a) The hypoteses are:\n",
    "- $H_0 : p_A \\leq 0.05$\n",
    "- $H_A : p_B > 0.05$"
   ]
  },
  {
   "cell_type": "markdown",
   "metadata": {},
   "source": [
    "We calculate the statistics for the normal approximation as:\n",
    "\\begin{equation}\n",
    "    z = \\frac{x - np_0 - 0.5}{\\sqrt{np_0(1-p_0)}} = \\frac{13 - 62 \\times 0.05 - 0.5}{\\sqrt{62 \\times 0.05 \\times (1-0.05)}} = 5.48\n",
    "\\end{equation}"
   ]
  },
  {
   "cell_type": "code",
   "execution_count": 23,
   "metadata": {},
   "outputs": [
    {
     "name": "stdout",
     "output_type": "stream",
     "text": [
      "p-value:  2.1266291838628604e-08\n"
     ]
    }
   ],
   "source": [
    "print('p-value: ', (1 - norm.cdf(5.48)) )"
   ]
  },
  {
   "cell_type": "markdown",
   "metadata": {},
   "source": [
    "We can conclude that with the p value close to 0, there is sufficient evidence to conclude that the probability of breakdown is above 5%."
   ]
  },
  {
   "cell_type": "markdown",
   "metadata": {},
   "source": [
    "b) The 95% confidence can be calculated via $z_{0.05}$"
   ]
  },
  {
   "cell_type": "code",
   "execution_count": null,
   "metadata": {},
   "outputs": [],
   "source": [
    "z = norm.ppf(1-0.05)\n",
    "print(z)"
   ]
  },
  {
   "cell_type": "markdown",
   "metadata": {},
   "source": [
    "Thus the confidence interval is:\n",
    "\\begin{equation}\n",
    "    \\left( \\frac{13}{62} - \\frac{1.645}{62} \\times \\sqrt{\\frac{13 \\times (62-13)}{62} }, 1 \\right) = (0.125, 1)\n",
    "\\end{equation}"
   ]
  },
  {
   "cell_type": "markdown",
   "metadata": {},
   "source": [
    "## Exercise 10.2.2"
   ]
  },
  {
   "cell_type": "markdown",
   "metadata": {},
   "source": [
    "a) The 95% confidence can be calculated via $z_{0.005}$"
   ]
  },
  {
   "cell_type": "code",
   "execution_count": 26,
   "metadata": {},
   "outputs": [
    {
     "name": "stdout",
     "output_type": "stream",
     "text": [
      "2.5758293035489004\n"
     ]
    }
   ],
   "source": [
    "z = norm.ppf(1-0.005)\n",
    "print(z)"
   ]
  },
  {
   "cell_type": "markdown",
   "metadata": {},
   "source": [
    "The confidence interval can be calculated as such:\n",
    "\\begin{equation}\n",
    "    \\hat{p}_a - \\hat{p}_b \\pm z_{\\alpha / 2} \\sqrt{ \\frac { \\hat{p}_a (1- \\hat{p}_a ) }{n} + \\frac{ \\hat{p}_b (1- \\hat{p}_b)}{m} }\n",
    "\\end{equation}"
   ]
  },
  {
   "cell_type": "markdown",
   "metadata": {},
   "source": [
    "So, the confidence interval is:\n",
    "\\begin{equation}\n",
    "    \\frac{4}{50} - \\frac{10}{50} \\pm 2.576 \\times \\sqrt{ \\frac{4 \\times (50-4)}{50^3} + \\frac{10 \\times (50-10) }{50^3} }  = (-0.296, 0.056)\n",
    "\\end{equation}"
   ]
  },
  {
   "cell_type": "markdown",
   "metadata": {},
   "source": [
    "b) We can use the pooled probability estimate, which is $\\hat{p} = \\frac{x+y}{n+m} = \\frac{4+10}{50+50} =0.14$ "
   ]
  },
  {
   "cell_type": "markdown",
   "metadata": {},
   "source": [
    "The test statistcs is: \n",
    "\\begin{equation}\n",
    "    z = \\frac{ \\hat{p}_A - \\hat{p}_b }{\\sqrt{ \\hat{p} (1 - \\hat{p})(\\frac{1}{n} + \\frac{1}{m}) }}\n",
    "\\end{equation}\n",
    "\n",
    "Therefore:\n",
    "\\begin{equation}\n",
    "    z = \\frac{ \\frac{4}{50} -\\frac{10}{50} }{\\sqrt{ 0.14 \\times (1 - 0.14)\\times(\\frac{1}{50} + \\frac{1}{50}) }} = -1.729\n",
    "\\end{equation}"
   ]
  },
  {
   "cell_type": "code",
   "execution_count": 33,
   "metadata": {},
   "outputs": [
    {
     "name": "stdout",
     "output_type": "stream",
     "text": [
      "p value:  0.08380909507894739\n"
     ]
    }
   ],
   "source": [
    "print('p value: ', 2*norm.cdf(-1.729))"
   ]
  },
  {
   "cell_type": "markdown",
   "metadata": {},
   "source": [
    "c) The confidence interval becomes:\n",
    "\\begin{equation}\n",
    "    \\frac{40}{500} - \\frac{100}{500} \\pm 2.576 \\times \\sqrt{ \\frac{40 \\times (500-40)}{500^3} + \\frac{100 \\times (500-100) }{500^3} }  = (-0.176, 0.064)\n",
    "\\end{equation}"
   ]
  },
  {
   "cell_type": "markdown",
   "metadata": {},
   "source": [
    "We can use the pooled probability estimate, which is $\\hat{p} = \\frac{x+y}{n+m} = \\frac{40+100}{500+500} =0.14$ "
   ]
  },
  {
   "cell_type": "markdown",
   "metadata": {},
   "source": [
    "\\begin{equation}\n",
    "    z = \\frac{ \\frac{40}{500} -\\frac{100}{500} }{\\sqrt{ 0.14 \\times (1 - 0.14)\\times(\\frac{1}{500} + \\frac{1}{500}) }} = -5.468\n",
    "\\end{equation}"
   ]
  },
  {
   "cell_type": "code",
   "execution_count": 35,
   "metadata": {},
   "outputs": [
    {
     "name": "stdout",
     "output_type": "stream",
     "text": [
      "p value:  4.551418826709858e-08\n"
     ]
    }
   ],
   "source": [
    "print('p value: ', 2*norm.cdf(-5.468))"
   ]
  },
  {
   "cell_type": "markdown",
   "metadata": {},
   "source": [
    "In this case, the p-value becomes almost zero."
   ]
  },
  {
   "cell_type": "markdown",
   "metadata": {},
   "source": [
    "## Exercise 10.2.12"
   ]
  },
  {
   "cell_type": "code",
   "execution_count": 36,
   "metadata": {},
   "outputs": [
    {
     "name": "stdout",
     "output_type": "stream",
     "text": [
      "1.6448536269514722\n"
     ]
    }
   ],
   "source": [
    "z = norm.ppf(1-0.05)\n",
    "print(z)"
   ]
  },
  {
   "cell_type": "markdown",
   "metadata": {},
   "source": [
    "We can construct the uppder confidence bound for $p_A - p_B$, where $p_A$ is the probability of following the link in the original design and $p_B$ is the probability after the modification, as following:\n",
    "\\begin{equation}\n",
    "    \\left( -1,  \\frac{22}{542} - \\frac{64}{601} + 1.645 \\times \\sqrt{ \\frac{22\\times (542-22)}{542^3} + \\frac{64 \\times (601-64)}{601^3} } \\right) = (-1, -0.041)\n",
    "\\end{equation}"
   ]
  },
  {
   "cell_type": "markdown",
   "metadata": {},
   "source": [
    "a) The hypoteses are:\n",
    "- $H_0 : p_A \\geq p_B$\n",
    "- $H_A : p_A < p_B$"
   ]
  },
  {
   "cell_type": "markdown",
   "metadata": {},
   "source": [
    "We can use the pooled probability estimate, which is $\\hat{p} = \\frac{x+y}{n+m} = \\frac{22+64}{542+601} =0.0752$ "
   ]
  },
  {
   "cell_type": "markdown",
   "metadata": {},
   "source": [
    "The test statistics becomes\n",
    "\\begin{equation}\n",
    "    z = \\frac{ \\frac{22}{542} -\\frac{64}{601} }{\\sqrt{ 0.0752 \\times (1 - 0.0752)\\times(\\frac{1}{542} + \\frac{1}{601}) }} = -4.22\n",
    "\\end{equation}"
   ]
  },
  {
   "cell_type": "code",
   "execution_count": 38,
   "metadata": {},
   "outputs": [
    {
     "name": "stdout",
     "output_type": "stream",
     "text": [
      "p value:  1.2215115925253025e-05\n"
     ]
    }
   ],
   "source": [
    "print('p value: ', norm.cdf(-4.22))"
   ]
  },
  {
   "cell_type": "markdown",
   "metadata": {},
   "source": [
    "Being the p-value almost zero, there is sufficient evidence to conclude that the probability of the link being following has increased."
   ]
  },
  {
   "cell_type": "markdown",
   "metadata": {},
   "source": [
    "## Exercise 10.3.6"
   ]
  },
  {
   "cell_type": "markdown",
   "metadata": {},
   "source": [
    "Soft drink type  | Formulation\n",
    "\n",
    "Formulation I\t225\n",
    "\n",
    "Formulation II\t223\n",
    "\n",
    "Formulation III\t152"
   ]
  },
  {
   "cell_type": "markdown",
   "metadata": {},
   "source": [
    "If the formulations are equally likely, then the expected cell frequencies are: $e_i = 600 \\times \\frac{1}{3} = 200$\n",
    "We can use the Pearson chi-square statistics to calculate the \\emph{p-value}:\n",
    "\\begin{equation}\n",
    "    X^2 = \\sum_{i=1}^{k} \\frac{(x_i - e_i)^2}{e_i}\n",
    "\\end{equation}\n",
    "\n",
    "yielding\n",
    "\n",
    "\\begin{equation}\n",
    "    X^2 = \\frac{225 - 200)^2}{200} + \\frac{223 - 200)^2}{200} + \\frac{152 - 200)^2}{200} = 17.29\n",
    "\\end{equation}"
   ]
  },
  {
   "cell_type": "markdown",
   "metadata": {},
   "source": [
    "The p-value is given by $P(\\chi^2_2 \\geq 17.29)$:"
   ]
  },
  {
   "cell_type": "code",
   "execution_count": 41,
   "metadata": {},
   "outputs": [
    {
     "name": "stdout",
     "output_type": "stream",
     "text": [
      "p-value:  0.00017600467513708998\n"
     ]
    }
   ],
   "source": [
    "from scipy.stats import chi2\n",
    "print('p-value: ', chi2.sf(17.29, 2))"
   ]
  },
  {
   "cell_type": "markdown",
   "metadata": {},
   "source": [
    "We can state that it is not plausible that the formulations of the soft drinks are equally likely.\n"
   ]
  },
  {
   "cell_type": "markdown",
   "metadata": {},
   "source": [
    "## Exercise 10.3.14"
   ]
  },
  {
   "cell_type": "markdown",
   "metadata": {},
   "source": [
    "We can calculate the probabilities given the Weibull distribution with $\\lambda = 0.065$ and $a = 0.45$:\n",
    "- $p_1^* = P(X\\leq 24) = 1 - e^{-(\\lambda x) ^{\\alpha} } = 1 - e^{-(0.065\\times 24)^{0.45} } = 0.705$\n",
    "- $p_2^* = P(X\\leq 48) = 1 - e^{-(\\lambda x) ^{\\alpha} } = 1 - e^{-(0.065\\times 48)^{0.45} } = 0.812$\n",
    "- $p_3^* = P(X\\leq 72) = 1 - e^{-(\\lambda x) ^{\\alpha} } = 1 - e^{-(0.065\\times 72)^{0.45} } = 0.865$"
   ]
  },
  {
   "cell_type": "markdown",
   "metadata": {},
   "source": [
    "The observed cell frequencies are: $12, 53, 39, 21$. Therefore:\n",
    "- $e_1 = n p_1^* = 125 \\times (0.705) = 88.125$\n",
    "- $e_2 = n p_2^* = 125 \\times (0.812 - 0.705) = 13.375$\n",
    "- $e_3 = n p_3^* = 125 \\times (0.865 - 0.812) = 6.625$\n",
    "- $e_4 = n p_4^* = 125 \\times (1 - 0.865) = 16.87$"
   ]
  },
  {
   "cell_type": "markdown",
   "metadata": {},
   "source": [
    "We use the Pearson $X^2$ statistics which yield\n",
    "\\begin{equation}\n",
    "    X^2 = \\sum_{i=1}^{k} \\frac{(x_i - e_i)^2}{e_i} \\sim 342.4\n",
    "\\end{equation}\n"
   ]
  },
  {
   "cell_type": "code",
   "execution_count": 43,
   "metadata": {},
   "outputs": [
    {
     "name": "stdout",
     "output_type": "stream",
     "text": [
      "p-value:  6.595603058895007e-74\n"
     ]
    }
   ],
   "source": [
    "print('p-value: ', chi2.sf(342.4, 3))"
   ]
  },
  {
   "cell_type": "markdown",
   "metadata": {},
   "source": [
    "Which is basically 0. Thus, the null hypotesis of the Weibull distribution approximation is clearly rejected."
   ]
  },
  {
   "cell_type": "markdown",
   "metadata": {},
   "source": [
    "## Exercise 10.4.2"
   ]
  },
  {
   "cell_type": "markdown",
   "metadata": {},
   "source": [
    "We do the experiment via the software package:"
   ]
  },
  {
   "cell_type": "code",
   "execution_count": 56,
   "metadata": {},
   "outputs": [
    {
     "name": "stdout",
     "output_type": "stream",
     "text": [
      "Observed cell frequencies:\n",
      "                Dead  Slow Growth  Medium Growth  Strong growth\n",
      "No Fertilizer    48          111            186            142\n",
      "Fertilizer I     71           89            174            181\n",
      "Fertilizer II    63           95            181            190\n"
     ]
    }
   ],
   "source": [
    "from scipy.stats import chi2_contingency\n",
    "aptocc = np.array([[48,111,186,142],[71,89,174,181],[63,95,181,190]])\n",
    "aptocc = pd.DataFrame(data=aptocc,\n",
    "index=['No Fertilizer','Fertilizer I', 'Fertilizer II'], columns=['Dead','Slow Growth','Medium Growth','Strong growth'])\n",
    "print(\"Observed cell frequencies:\\n\", aptocc)"
   ]
  },
  {
   "cell_type": "code",
   "execution_count": 57,
   "metadata": {},
   "outputs": [
    {
     "name": "stdout",
     "output_type": "stream",
     "text": [
      "Pearson's Chi-squared test \n",
      "X-squared = 13.6591, p-value = 0.0337, df = 6,\n",
      "Expected cell frequencies:\n",
      "                     Dead  Slow Growth  Medium Growth  Strong growth\n",
      "No Fertilizer  57.892880    93.837361     172.088178     163.181581\n",
      "Fertilizer I   61.221424    99.232528     181.982364     172.563684\n",
      "Fertilizer II  62.885696   101.930111     186.929458     177.254735\n"
     ]
    }
   ],
   "source": [
    "chi, pvalue, dof, expctd = chi2_contingency(aptocc)\n",
    "print(\"Pearson's Chi-squared test \\nX-squared = %.4f, p-value = %.4f, df = %d,\" %(chi,\n",
    "pvalue, dof))\n",
    "print(\"Expected cell frequencies:\\n\", pd.DataFrame(expctd, index=['No Fertilizer','Fertilizer I', 'Fertilizer II'], columns=['Dead','Slow Growth','Medium Growth','Strong growth']))"
   ]
  },
  {
   "cell_type": "markdown",
   "metadata": {},
   "source": [
    "There is a suggestion that the growth pattern is different for the different growing conditions, but there is no overwhelming evidence."
   ]
  },
  {
   "cell_type": "markdown",
   "metadata": {},
   "source": [
    "## Exercise 10.4.6"
   ]
  },
  {
   "cell_type": "markdown",
   "metadata": {},
   "source": [
    "For the $2 \\times 2$ contingency table we obtain:\n",
    "\n",
    "|                 | *c*<sub>1</sub>                                          | *c*<sub>2</sub>                                          | Sum up                                                       |\n",
    "| :-------------- | :------------------------------------------------------- | :------------------------------------------------------- | :----------------------------------------------------------- |\n",
    "| *r*<sub>1</sub> | *x*<sub>11</sub>                                         | *x*<sub>12</sub>                                         | *x*<sub>1⋅</sub> = *x*<sub>11</sub> + *x*<sub>12</sub>       |\n",
    "| *r*<sub>2</sub> | *x*<sub>21</sub>                                         | *x*<sub>22</sub>                                         | *x*<sub>2⋅</sub> = *x*<sub>21</sub> + *x*<sub>22</sub>       |\n",
    "| Sum up          | *x*<sub> ⋅ 1</sub> = *x*<sub>11</sub> + *x*<sub>21</sub> | *x*<sub> ⋅ 2</sub> = *x*<sub>12</sub> + *x*<sub>22</sub> | *n* = *x*<sub>1⋅</sub> + *x*<sub>2⋅</sub> = *x*<sub> ⋅ 1</sub> + *x*<sub> ⋅ 2</sub> |"
   ]
  },
  {
   "cell_type": "markdown",
   "metadata": {},
   "source": [
    "$$e_{ij} = \\frac{x_{i\\cdot}\\cdot x_{\\cdot j}}{n}$$\n",
    "\n",
    "So, we have: \n",
    "\n",
    "$$\\frac{(x_{11}-e_{11})^2}{e_{11}} = \\frac{(x_{11} - \\frac{(x_{11}+x_{12})(x_{11}+x_{21})}{x_{11} + x_{21}+x_{12}+x_{22}})^2}{\\frac{x_{1\\cdot} x_{\\cdot 1}}{x_{11} + x_{21}+x_{12}+x_{22}}} = \\frac{x_{2\\cdot} x_{\\cdot2}(x_{11}x_{22}-x_{12}x_{21})^2}{n x_{2\\cdot} x_{\\cdot2} x_{1\\cdot} x_{\\cdot1}}$$\n",
    "\n",
    "We also have in a similar way:\n",
    "\n",
    "$$\\frac{(x_{21}-e_{21})^2}{e_{21}} = \\frac{x_{1\\cdot} x_{\\cdot2}(x_{11}x_{22}-x_{12}x_{21})^2}{n x_{2\\cdot} x_{\\cdot2} x_{1\\cdot} x_{\\cdot1}}$$\n",
    "\n",
    "\n",
    "and we can easily obtain the other coefficients in the same way.\n",
    "Finally, we can prove the result by substituting:\n",
    "\n",
    "$$\\chi^2=\\sum_{i=1}^{2}\\sum_{j=1}^{2}\\frac{(x_{ij}-e_{ij})^2}{e_{ij}} = \\frac{x_{2\\cdot} x_{\\cdot2}(x_{11}x_{22}-x_{12}x_{21})^2}{n x_{2\\cdot} x_{\\cdot2} x_{1\\cdot} x_{\\cdot1}} + \\frac{x_{2\\cdot} x_{\\cdot1}(x_{11}x_{22}-x_{12}x_{21})^2}{n x_{2\\cdot} x_{\\cdot2} x_{1\\cdot} x_{\\cdot1}}$$\n",
    "$$+\\frac{x_{1\\cdot} x_{\\cdot1}(x_{11}x_{22}-x_{12}x_{21})^2}{n x_{2\\cdot} x_{\\cdot2} x_{1\\cdot} x_{\\cdot1}} + \\frac{x_{1\\cdot} x_{\\cdot2}(x_{11}x_{22}-x_{12}x_{21})^2}{n x_{2\\cdot} x_{\\cdot2} x_{1\\cdot} x_{\\cdot1}}$$\n",
    "$$=\\frac{(x_{11}x_{22}-x_{12}x_{21})^2}{n x_{2\\cdot} x_{\\cdot2} x_{1\\cdot} x_{\\cdot1}}(x_{2\\cdot}x_{\\cdot2}+x_{2\\cdot}x_{\\cdot1}+x_{1\\cdot}x_{\\cdot2}+x_{1\\cdot}x_{\\cdot1})$$\n",
    "$$=\\frac{(x_{11}x_{22}-x_{12}x_{21})^2}{n x_{2\\cdot} x_{\\cdot2} x_{1\\cdot} x_{\\cdot1}}(x_{\\cdot2}+x_{\\cdot1})^2=\n",
    "\\frac{n(x_{11}x_{22}-x_{12}x_{21})^2}{x_{2\\cdot} x_{\\cdot2} x_{1\\cdot} x_{\\cdot1}}$$\n",
    "\n",
    "■"
   ]
  },
  {
   "cell_type": "markdown",
   "metadata": {},
   "source": [
    "## Exercise 10.4.10"
   ]
  },
  {
   "cell_type": "markdown",
   "metadata": {},
   "source": [
    "We may conduct the experiment via the software package"
   ]
  },
  {
   "cell_type": "code",
   "execution_count": 73,
   "metadata": {},
   "outputs": [
    {
     "name": "stdout",
     "output_type": "stream",
     "text": [
      "Observed cell frequencies:\n",
      "    Minor Cracking  Medium cracking  Severe cracking\n",
      "A              31               17                9\n",
      "B              36                9                4\n",
      "C              56               19               15\n"
     ]
    }
   ],
   "source": [
    "from scipy.stats import chi2_contingency\n",
    "aptocc = np.array([[31, 17, 9], [36,9,4], [56, 19, 15]])\n",
    "aptocc = pd.DataFrame(data=aptocc,\n",
    "index=['A', 'B', 'C'], columns=['Minor Cracking','Medium cracking', 'Severe cracking'])\n",
    "print(\"Observed cell frequencies:\\n\", aptocc)"
   ]
  },
  {
   "cell_type": "code",
   "execution_count": 74,
   "metadata": {},
   "outputs": [
    {
     "name": "stdout",
     "output_type": "stream",
     "text": [
      "Pearson's Chi-squared test \n",
      "X-squared = 5.0237, p-value = 0.2849, df = 4,\n",
      "Expected cell frequencies:\n",
      "    Minor Cracking  Medium cracking  Severe cracking\n",
      "A       35.770408        13.086735         8.142857\n",
      "B       30.750000        11.250000         7.000000\n",
      "C       56.479592        20.663265        12.857143\n"
     ]
    }
   ],
   "source": [
    "chi, pvalue, dof, expctd = chi2_contingency(aptocc)\n",
    "print(\"Pearson's Chi-squared test \\nX-squared = %.4f, p-value = %.4f, df = %d,\" %(chi,\n",
    "pvalue, dof))\n",
    "print(\"Expected cell frequencies:\\n\", pd.DataFrame(expctd, index=['A', 'B', 'C'], columns=['Minor Cracking','Medium cracking', 'Severe cracking']))"
   ]
  },
  {
   "cell_type": "markdown",
   "metadata": {},
   "source": [
    "Therefore, the null hypotesis of independence is plausible and we have no overwhelming evidence to state the three types of asphalt are different with respect to cracking."
   ]
  }
 ],
 "metadata": {
  "kernelspec": {
   "display_name": "Python 3",
   "language": "python",
   "name": "python3"
  },
  "language_info": {
   "codemirror_mode": {
    "name": "ipython",
    "version": 3
   },
   "file_extension": ".py",
   "mimetype": "text/x-python",
   "name": "python",
   "nbconvert_exporter": "python",
   "pygments_lexer": "ipython3",
   "version": "3.8.5"
  }
 },
 "nbformat": 4,
 "nbformat_minor": 4
}
