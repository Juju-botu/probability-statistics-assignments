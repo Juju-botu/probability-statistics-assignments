{
 "cells": [
  {
   "cell_type": "markdown",
   "metadata": {},
   "source": [
    "# **Homework 8 - Federico Berto**"
   ]
  },
  {
   "cell_type": "code",
   "execution_count": 1,
   "metadata": {},
   "outputs": [],
   "source": [
    "# Useful libraries\n",
    "import numpy as np\n",
    "import pandas as pd\n",
    "import matplotlib.pyplot as plt\n",
    "from scipy import stats\n",
    "import statsmodels.stats.weightstats as sms\n",
    "from scipy.stats import t\n",
    "from scipy.stats import norm\n",
    "import math"
   ]
  },
  {
   "cell_type": "markdown",
   "metadata": {},
   "source": [
    "## 9.2.8"
   ]
  },
  {
   "cell_type": "code",
   "execution_count": 2,
   "metadata": {},
   "outputs": [
    {
     "name": "stdout",
     "output_type": "stream",
     "text": [
      "   Bacterium Culture  Standard Antibiotic  New Antibiotic\n",
      "0                  1                 23.6            22.5\n",
      "1                  2                 27.9            25.6\n",
      "2                  3                 22.9            24.0\n",
      "3                  4                 21.8            20.4\n",
      "4                  5                 25.8            26.0\n",
      "5                  6                 30.7            26.6\n",
      "6                  7                 26.5            26.4\n",
      "7                  8                 25.4            22.1\n",
      "Difference distribution:\n",
      " count    8.000000\n",
      "mean     1.375000\n",
      "std      1.784657\n",
      "min     -1.100000\n",
      "25%      0.025000\n",
      "50%      1.250000\n",
      "75%      2.550000\n",
      "max      4.100000\n",
      "dtype: float64\n"
     ]
    }
   ],
   "source": [
    "data=pd.read_excel(\"DS9.2.8.xls\")\n",
    "print(data)\n",
    "dat_A= data['Standard Antibiotic']\n",
    "dat_B= data['New Antibiotic']\n",
    "diff = dat_A - dat_B\n",
    "# We create the difference distribution\n",
    "print(\"Difference distribution:\\n\", diff.describe())"
   ]
  },
  {
   "cell_type": "markdown",
   "metadata": {},
   "source": [
    "We have the difference $z_i = x_i - y_i$ has a mean $\\bar{z} = \\mu_{S} - \\mu_{N}$ where S is the standard antibiotic and N is the new one. So, $\\bar{z} = 1.375$ and the sample standard deviation is $s = 1.7847$\n",
    "The hypoteses are:\n",
    "- $H_0 : \\mu \\leq 0$\n",
    "- $H_A : \\mu > 0$\n",
    "\n",
    "Test statistics:\n",
    "\\begin{equation}\n",
    "    t = \\frac{\\sqrt{n} \\bar{z}}{s} = \\frac{\\sqrt{8}\\times 1.375}{1.7847} = 2.179\n",
    "\\end{equation}"
   ]
  },
  {
   "cell_type": "code",
   "execution_count": 3,
   "metadata": {},
   "outputs": [
    {
     "name": "stdout",
     "output_type": "stream",
     "text": [
      "P-value using sf (1-cdf) = 0.0329\n"
     ]
    }
   ],
   "source": [
    "print((\"P-value using sf (1-cdf) = {:.4f}\").format(t.sf(2.179, 7)))"
   ]
  },
  {
   "cell_type": "markdown",
   "metadata": {},
   "source": [
    "So, there is some evidence, although it is not strong at all, that the new antibiotic is quicker than the standard one"
   ]
  },
  {
   "cell_type": "markdown",
   "metadata": {},
   "source": [
    "## 9.3.2"
   ]
  },
  {
   "cell_type": "markdown",
   "metadata": {},
   "source": [
    "We first declare some variables we will use based on the distribution:"
   ]
  },
  {
   "cell_type": "code",
   "execution_count": 4,
   "metadata": {},
   "outputs": [],
   "source": [
    "# Population A\n",
    "n = 14\n",
    "x_bar = 32.45\n",
    "s_x = 4.30\n",
    "\n",
    "# Population B\n",
    "m = 14\n",
    "y_bar = 41.45\n",
    "s_y = 5.23\n",
    "\n",
    "alpha = 0.01 # = 1 - confidence level"
   ]
  },
  {
   "cell_type": "markdown",
   "metadata": {},
   "source": [
    "The pooled variance is given by the following expression:\n",
    "\\begin{equation}\n",
    "    s_p^2 = \\frac{(n-1)s_x^2 + (m-1) s_y^2}{n+m-2}\n",
    "\\end{equation}\n"
   ]
  },
  {
   "cell_type": "code",
   "execution_count": 5,
   "metadata": {},
   "outputs": [
    {
     "name": "stdout",
     "output_type": "stream",
     "text": [
      "a)\n",
      "Confidence interval with 99.00% confidence level: (-14.0282)(-3.9718)\n"
     ]
    }
   ],
   "source": [
    "# Pooled variance:\n",
    "def pooled_variance(n, m, s_x, s_y):\n",
    "    return ( ((n-1)*s_x**2 + (m-1)*s_y**2) / (n+m-2))\n",
    "\n",
    "def wing_span(s_p, n, m, alpha):\n",
    "    return t.ppf(1-alpha/2, n+m-2) * s_p*math.sqrt(1/n + 1/m)\n",
    "\n",
    "def print_confidence_interval(alpha, mu, wing_span):\n",
    "    print((\"Confidence interval with {:.2f}% confidence level: ({:.4f})({:.4f})\").format(((1-alpha)*100), mu - wing_span, mu + wing_span))\n",
    "    \n",
    "diff = x_bar - y_bar\n",
    "s_p = math.sqrt(pooled_variance(n, m, s_x, s_y))\n",
    "wing_span = wing_span(s_p, n, m, alpha)\n",
    "print(\"a)\")\n",
    "print_confidence_interval(alpha, diff, wing_span)"
   ]
  },
  {
   "cell_type": "markdown",
   "metadata": {},
   "source": [
    "Now, we need to calculate the degrees of freedom by the following formula:\n",
    "\n",
    "\\begin{equation}\n",
    "    v^* = \\frac{ (s_x^2 / n + s_y^2 /m ) ^2}{ s_x^4/ n^2(n-1) + s_y^4 / m^2(m-1) } \n",
    "\\end{equation}"
   ]
  },
  {
   "cell_type": "code",
   "execution_count": 6,
   "metadata": {},
   "outputs": [
    {
     "name": "stdout",
     "output_type": "stream",
     "text": [
      "b)\n",
      "Confidence interval with 99.00% confidence level: (-14.0440)(-3.9560)\n"
     ]
    }
   ],
   "source": [
    "def degrees_of_freedom(n, m, s_x, s_y):\n",
    "    nu =  ((s_x**2/n + s_y**2/m)**2) / ( s_x**4 / (n**2*(n-1)) + s_y**4 / (m**2*(m-1)))\n",
    "    return math.floor(nu)\n",
    "nu = degrees_of_freedom( n, m, s_x, s_y)\n",
    "\n",
    "def wing_span(alpha, nu, n, m, s_x, s_y):\n",
    "    return t.ppf(1-alpha/2, nu) * math.sqrt( s_x**2/n + s_y**2/m)\n",
    "\n",
    "def print_confidence_interval(alpha, mu, wing_span):\n",
    "    print((\"Confidence interval with {:.2f}% confidence level: ({:.4f})({:.4f})\").format(((1-alpha)*100), mu - wing_span, mu + wing_span))\n",
    "    \n",
    "wing_span = wing_span(alpha, nu, n, m, s_x, s_y)\n",
    "print(\"b)\")\n",
    "print_confidence_interval(alpha, diff, wing_span)"
   ]
  },
  {
   "cell_type": "markdown",
   "metadata": {},
   "source": [
    "We consider the statistics is \n",
    "\\begin{equation}\n",
    "    T = \\frac{ \\bar{x} - \\bar{y} - (\\mu_A - \\mu_B)}{\\sqrt{\\frac{s_x^2}{n} + \\frac{s_y^2}{m}}}\n",
    "\\end{equation}\n",
    "\n",
    "The hypoteses are:\n",
    "- $H_0 : \\mu_A = \\mu_B$\n",
    "- $H_A : \\mu_A \\neq \\mu_B$"
   ]
  },
  {
   "cell_type": "code",
   "execution_count": 7,
   "metadata": {},
   "outputs": [
    {
     "name": "stdout",
     "output_type": "stream",
     "text": [
      "|t| value:  4.973595778437414\n",
      "Critical point:  2.7787145333289134\n"
     ]
    }
   ],
   "source": [
    "# Calculate the t-statistics\n",
    "def T_statistic(x_bar, y_bar, s_x, s_y, n, m, mu_difference = 0):\n",
    "    return ( (x_bar - y_bar - mu_difference)  / math.sqrt(s_x**2/n + s_y**2/m))\n",
    "\n",
    "t_stat = T_statistic(x_bar, y_bar, s_x, s_y, n, m, mu_difference = 0)\n",
    "print(\"|t| value: \", abs(t_stat))\n",
    "print(\"Critical point: \", t.ppf(1- alpha/2, n + m -2 ) )"
   ]
  },
  {
   "cell_type": "markdown",
   "metadata": {},
   "source": [
    "The null hypotesis is rejected because $\\mid t \\mid$ is greater than the critical point.\n",
    "The $p$-value can be calculated as:\n",
    "$2 \\times P(t_{26} \\geq 4.97) = 0.000$"
   ]
  },
  {
   "cell_type": "code",
   "execution_count": 8,
   "metadata": {},
   "outputs": [
    {
     "name": "stdout",
     "output_type": "stream",
     "text": [
      "P-value = 0.0000\n"
     ]
    }
   ],
   "source": [
    "print((\"P-value = {:.4f}\").format(2 * t.cdf(t_stat, n + m -2)))"
   ]
  },
  {
   "cell_type": "markdown",
   "metadata": {},
   "source": [
    "## 9.3.10"
   ]
  },
  {
   "cell_type": "markdown",
   "metadata": {},
   "source": [
    "From now on, let's directly solve the exercises in Python"
   ]
  },
  {
   "cell_type": "code",
   "execution_count": 9,
   "metadata": {},
   "outputs": [],
   "source": [
    "# Population A\n",
    "n = 38\n",
    "x_bar = 5.782\n",
    "\n",
    "# Population B\n",
    "m = 40\n",
    "y_bar = 6.443\n",
    "\n",
    "sigma = 2.0\n",
    "alpha = 0.01 # = 1 - confidence level"
   ]
  },
  {
   "cell_type": "markdown",
   "metadata": {},
   "source": [
    "We calculate the p-value based on $H_0: \\mu_A - \\mu_B > 0$"
   ]
  },
  {
   "cell_type": "code",
   "execution_count": 10,
   "metadata": {},
   "outputs": [
    {
     "name": "stdout",
     "output_type": "stream",
     "text": [
      "a)\n",
      "Z-statistics:  -1.4589686381754354\n",
      "p-value:  0.07228686987180125\n"
     ]
    }
   ],
   "source": [
    "# Calculate the t-statistics\n",
    "\n",
    "def Z_statistic(x_bar, y_bar, s_x, s_y, n, m, mu_difference = 0):\n",
    "    return ( (x_bar - y_bar - mu_difference)  / math.sqrt(s_x**2/n + s_y**2/m))\n",
    "\n",
    "Z_stat = Z_statistic(x_bar, y_bar, sigma, sigma, n, m)\n",
    "print(\"a)\")\n",
    "print(\"Z-statistics: \", Z_stat)\n",
    "print(\"p-value: \", norm.cdf(Z_stat))"
   ]
  },
  {
   "cell_type": "code",
   "execution_count": 11,
   "metadata": {},
   "outputs": [
    {
     "name": "stdout",
     "output_type": "stream",
     "text": [
      "b)\n",
      "Confidence interval with 99.00% confidence level: (-∞)(0.3930)\n"
     ]
    }
   ],
   "source": [
    "def wing_span(alpha, n, m, s_x, s_y):\n",
    "    return norm.ppf(1-alpha) * math.sqrt( s_x**2/n + s_y**2/m)\n",
    "\n",
    "def print_confidence_interval(alpha, mu, wing_span, lower_bound = False, upper_bound = False):\n",
    "    if upper_bound:\n",
    "        print((\"Confidence interval with {:.2f}% confidence level: (-∞)({:.4f})\").format(((1-alpha)*100), mu + wing_span))\n",
    "        return\n",
    "    if lower_bound:\n",
    "        print((\"Confidence interval with {:.2f}% confidence level: ({:.4f})(∞))\").format(((1-alpha)*100), mu - wing_span))\n",
    "        return\n",
    "    # Default case: double bounded\n",
    "    print((\"Confidence interval with {:.2f}% confidence level: ({:.4f})({:.4f})\").format(((1-alpha)*1, mu - wing_span, mu + wing_span)))\n",
    "\n",
    "diff = x_bar - y_bar\n",
    "wing_span = wing_span(alpha, n, m, sigma, sigma)\n",
    "print(\"b)\")\n",
    "print_confidence_interval(alpha, diff, wing_span, upper_bound = True)"
   ]
  },
  {
   "cell_type": "markdown",
   "metadata": {},
   "source": [
    "## 9.3.14"
   ]
  },
  {
   "cell_type": "code",
   "execution_count": 12,
   "metadata": {},
   "outputs": [],
   "source": [
    "# Population A\n",
    "n = 14\n",
    "x_bar = 32.45\n",
    "s_x = 4.30\n",
    "\n",
    "# Population B\n",
    "m = 14\n",
    "y_bar = 41.45\n",
    "s_y = 5.23\n",
    "\n",
    "alpha = 0.01 # = 1 - confidence level"
   ]
  },
  {
   "cell_type": "code",
   "execution_count": 13,
   "metadata": {},
   "outputs": [
    {
     "name": "stdout",
     "output_type": "stream",
     "text": [
      "t value:  2.7787145333289134\n"
     ]
    }
   ],
   "source": [
    "print(\"t value: \", t.ppf(1-alpha/2, n+m-2))"
   ]
  },
  {
   "cell_type": "markdown",
   "metadata": {},
   "source": [
    "The length follows the following equation:\n",
    "\\begin{equation}\n",
    "    L = 2 \\times t_{\\alpha / 2, \\nu}  \\sqrt{ \\frac{s_A^2}{n} + \\frac{s_B^2}{m}} \\leq 5\n",
    "\\end{equation}\n",
    "So we get: \n",
    "\\begin{equation}\n",
    "    n = m \\geq \\frac{4t_{\\alpha / 2, \\nu} (s^2_A + s^2_B)}{L_0^2} = \\frac{ 4 \\times 2.779^2 \\times (4.3^2 + 5.23^2)}{5^2} = 56.646\n",
    "\\end{equation}\n",
    "\n",
    "So, 57 samples will suffice, which means $57 - 14 = 43$ more samples should be collected from each population"
   ]
  },
  {
   "cell_type": "markdown",
   "metadata": {},
   "source": [
    "## 9.3.22"
   ]
  },
  {
   "cell_type": "code",
   "execution_count": 14,
   "metadata": {},
   "outputs": [],
   "source": [
    "# Population A\n",
    "n = 16\n",
    "x_bar = 1.053\n",
    "s_x = 0.058\n",
    "\n",
    "# Population B\n",
    "m = 16\n",
    "y_bar = 1.071\n",
    "s_y = 0.062\n",
    "\n",
    "sign_level = 0.05"
   ]
  },
  {
   "cell_type": "markdown",
   "metadata": {},
   "source": [
    "The hypoteses are:\n",
    "- $H_0 : \\mu_A - \\mu_B \\geq 0$\n",
    "- $H_A : \\mu_A - \\mu_B < 0$\n"
   ]
  },
  {
   "cell_type": "code",
   "execution_count": 15,
   "metadata": {},
   "outputs": [
    {
     "name": "stdout",
     "output_type": "stream",
     "text": [
      "Degrees of freedom 29\n",
      "Test statistics:  -0.8480571253767827\n",
      "P-value using cdf = 0.2017\n"
     ]
    }
   ],
   "source": [
    "# Calculate the t-statistics\n",
    "def T_statistic(x_bar, y_bar, s_x, s_y, n, m, mu_difference = 0):\n",
    "    return ( (x_bar - y_bar - mu_difference)  / math.sqrt(s_x**2/n + s_y**2/m))\n",
    "\n",
    "def degrees_of_freedom(n, m, s_x, s_y):\n",
    "    nu =  ((s_x**2/n + s_y**2/m)**2) / ( s_x**4 / (n**2*(n-1)) + s_y**4 / (m**2*(m-1)))\n",
    "    return math.floor(nu)\n",
    "\n",
    "nu = degrees_of_freedom( n, m, s_x, s_y)\n",
    "print(\"Degrees of freedom\", nu)\n",
    "t_stat = T_statistic(x_bar, y_bar, s_x, s_y, n, m, mu_difference = 0)\n",
    "print(\"Test statistics: \", t_stat)\n",
    "print((\"P-value using cdf = {:.4f}\").format(t.cdf(t_stat, nu)))"
   ]
  },
  {
   "cell_type": "markdown",
   "metadata": {},
   "source": [
    "Therefore, there is not sufficient evidence that the null hypotesis is true"
   ]
  },
  {
   "cell_type": "markdown",
   "metadata": {},
   "source": [
    "## 9.3.26"
   ]
  },
  {
   "cell_type": "code",
   "execution_count": 16,
   "metadata": {},
   "outputs": [],
   "source": [
    "# Population A\n",
    "n = 10\n",
    "x_bar = 7.76\n",
    "s_x = 1.07\n",
    "\n",
    "# Population B\n",
    "m = 9\n",
    "y_bar = 6.88\n",
    "s_y = 0.62\n",
    "\n",
    "\n",
    "alpha = 0.01 # = 1 - confidence level"
   ]
  },
  {
   "cell_type": "code",
   "execution_count": 17,
   "metadata": {},
   "outputs": [
    {
     "name": "stdout",
     "output_type": "stream",
     "text": [
      "Degrees of freedom:  14\n",
      "a)\n",
      "Confidence interval with 99.00% confidence level: (-0.1606)(∞))\n",
      "b)\n",
      "Confidence interval with 95.00% confidence level: (0.1817)(∞))\n"
     ]
    }
   ],
   "source": [
    "def wing_span(alpha, nu, n, m, s_x, s_y):\n",
    "    return t.ppf(1-alpha, nu) * math.sqrt( s_x**2/n + s_y**2/m)\n",
    "\n",
    "def print_confidence_interval(alpha, mu, wing_span, lower_bound = False, upper_bound = False):\n",
    "    if upper_bound:\n",
    "        print((\"Confidence interval with {:.2f}% confidence level: (-∞)({:.4f})\").format(((1-alpha)*100), mu + wing_span))\n",
    "        return\n",
    "    if lower_bound:\n",
    "        print((\"Confidence interval with {:.2f}% confidence level: ({:.4f})(∞))\").format(((1-alpha)*100), mu - wing_span))\n",
    "        return\n",
    "    # Default case: double bounded\n",
    "    print((\"Confidence interval with {:.2f}% confidence level: ({:.4f})({:.4f})\").format(((1-alpha)*1, mu - wing_span, mu + wing_span)))\n",
    "    \n",
    "def degrees_of_freedom(n, m, s_x, s_y):\n",
    "    nu =  ((s_x**2/n + s_y**2/m)**2) / ( s_x**4 / (n**2*(n-1)) + s_y**4 / (m**2*(m-1)))\n",
    "    return math.floor(nu)\n",
    "\n",
    "nu = degrees_of_freedom( n, m, s_x, s_y)    \n",
    "print(\"Degrees of freedom: \", nu)\n",
    "\n",
    "t_stat = T_statistic(x_bar, y_bar, s_x, s_y, n, m, mu_difference = 0)\n",
    "\n",
    "diff = x_bar - y_bar\n",
    "ws = wing_span(alpha, nu, n, m, s_x, s_y)\n",
    "print(\"a)\")\n",
    "print_confidence_interval(alpha, diff, ws, lower_bound = True)\n",
    "\n",
    "ws = wing_span(0.05, nu, n, m, s_x, s_y)\n",
    "print(\"b)\")\n",
    "print_confidence_interval(0.05, diff, ws, lower_bound = True)\n"
   ]
  },
  {
   "cell_type": "markdown",
   "metadata": {},
   "source": [
    "The value of $c$ increases, since the confidence level has decreased: we have a \"tighter\" constraint now"
   ]
  },
  {
   "cell_type": "markdown",
   "metadata": {},
   "source": [
    "The hypoteses are:\n",
    "- $H_0 : \\mu_A \\leq \\mu_B$\n",
    "- $H_A : \\mu_A > \\mu_B$"
   ]
  },
  {
   "cell_type": "code",
   "execution_count": 18,
   "metadata": {},
   "outputs": [
    {
     "name": "stdout",
     "output_type": "stream",
     "text": [
      "T statistic:  2.2194985542975125\n",
      "Size alpha = 0.01:  2.624494067560231\n",
      "P-value using sf (1-cdf) = 0.0217\n"
     ]
    }
   ],
   "source": [
    "# Calculate the t-statistics\n",
    "def T_statistic(x_bar, y_bar, s_x, s_y, n, m, mu_difference = 0):\n",
    "    return ( (x_bar - y_bar - mu_difference)  / math.sqrt(s_x**2/n + s_y**2/m))\n",
    "\n",
    "t_stat = T_statistic(x_bar, y_bar, s_x, s_y, n, m)\n",
    "print(\"T statistic: \", t_stat)\n",
    "print(\"Size alpha = 0.01: \", t.ppf(1-0.01, nu))\n",
    "print((\"P-value using sf (1-cdf) = {:.4f}\").format(t.sf(t_stat, nu)))"
   ]
  },
  {
   "cell_type": "markdown",
   "metadata": {},
   "source": [
    "We can accept the null hypothesis since $t \\leq t_{0.01, 14}$.\n",
    "The $p$ value is $P(t_{14} \\geq 2.22) = 0.0217$"
   ]
  },
  {
   "cell_type": "markdown",
   "metadata": {},
   "source": [
    "## 9.7.10"
   ]
  },
  {
   "cell_type": "code",
   "execution_count": 19,
   "metadata": {},
   "outputs": [],
   "source": [
    "# Population A\n",
    "n = 48\n",
    "x_bar = 432.7\n",
    "s_x = 20.39\n",
    "\n",
    "# Population B\n",
    "m = 10\n",
    "y_bar = 403.5\n",
    "s_y = 15.62\n",
    "\n",
    "\n",
    "alpha = 0.01 # = 1 - confidence level"
   ]
  },
  {
   "cell_type": "markdown",
   "metadata": {},
   "source": [
    "The hypoteses are:\n",
    "- $H_0 : \\mu_A \\leq \\mu_B$\n",
    "- $H_A : \\mu_A > \\mu_B$"
   ]
  },
  {
   "cell_type": "code",
   "execution_count": 20,
   "metadata": {},
   "outputs": [
    {
     "name": "stdout",
     "output_type": "stream",
     "text": [
      "16\n",
      "T statistics: 5.07845732358246\n",
      "P-value using sf (1-cdf) = 0.0001\n"
     ]
    }
   ],
   "source": [
    "\n",
    "\n",
    "# Calculate the t-statistics\n",
    "def T_statistic(x_bar, y_bar, s_x, s_y, n, m, mu_difference = 0):\n",
    "    return ( (x_bar - y_bar - mu_difference)  / math.sqrt(s_x**2/n + s_y**2/m))\n",
    "\n",
    "def degrees_of_freedom(n, m, s_x, s_y):\n",
    "    nu =  ((s_x**2/n + s_y**2/m)**2) / ( s_x**4 / (n**2*(n-1)) + s_y**4 / (m**2*(m-1)))\n",
    "    return math.floor(nu)\n",
    "nu = degrees_of_freedom(n, m, s_x, s_y)\n",
    "print(nu)\n",
    "t_stat = T_statistic(x_bar, y_bar, s_x, s_y, n, m)\n",
    "print(\"T statistics:\", t_stat)\n",
    "print((\"P-value using sf (1-cdf) = {:.4f}\").format(t.sf(t_stat, nu)))"
   ]
  },
  {
   "cell_type": "markdown",
   "metadata": {},
   "source": [
    "Given the low p-value we can accept the alternative hypothesis and conclude that the new driving route will be quicker on average than the old one"
   ]
  },
  {
   "cell_type": "markdown",
   "metadata": {},
   "source": [
    "## 9.7.14"
   ]
  },
  {
   "cell_type": "code",
   "execution_count": 21,
   "metadata": {},
   "outputs": [],
   "source": [
    "data=pd.read_excel(\"DS9.6.7.xls\")\n",
    "dat_A= data['Procedure 1']\n",
    "dat_B= data['Procedure 2']\n",
    "# We create the difference distribution\n",
    "z = dat_A - dat_B"
   ]
  },
  {
   "cell_type": "markdown",
   "metadata": {},
   "source": [
    "The hypoteses are:\n",
    "- $H_0 : \\mu_A = \\mu_B$\n",
    "- $H_A : \\mu_A \\neq \\mu_B$"
   ]
  },
  {
   "cell_type": "code",
   "execution_count": 22,
   "metadata": {},
   "outputs": [
    {
     "name": "stdout",
     "output_type": "stream",
     "text": [
      "Mean = -0.022222222222222143\n",
      "Standard deviation =  0.5911382616989399\n",
      "t statistics:  -0.1127767748869198\n",
      "P-value using sf (1-cdf) = 1.0870\n"
     ]
    }
   ],
   "source": [
    "print(\"Mean =\", z.mean())\n",
    "print(\"Standard deviation = \", math.sqrt(z.var()))\n",
    "t_stat = 3*z.mean() /math.sqrt(z.var())\n",
    "print(\"t statistics: \", t_stat)\n",
    "print((\"P-value using sf (1-cdf) = {:.4f}\").format(2 * t.sf(t_stat, 8)))"
   ]
  },
  {
   "cell_type": "markdown",
   "metadata": {},
   "source": [
    "Given the high $p$-value, there is no evidence to conclude there is any difference between the two procedures"
   ]
  },
  {
   "cell_type": "markdown",
   "metadata": {},
   "source": [
    "## 9.7.20"
   ]
  },
  {
   "cell_type": "code",
   "execution_count": 23,
   "metadata": {},
   "outputs": [],
   "source": [
    "data=pd.read_excel(\"DS9.6.11.xls\")\n",
    "dat_A= data['Joystick Design 1']\n",
    "dat_B= data['Joystick Design 2']\n",
    "# We create the difference distribution\n",
    "z = dat_A - dat_B"
   ]
  },
  {
   "cell_type": "markdown",
   "metadata": {},
   "source": [
    "The hypoteses are:\n",
    "- $H_0 : \\mu_A = \\mu_B$\n",
    "- $H_A : \\mu_A \\neq \\mu_B$"
   ]
  },
  {
   "cell_type": "code",
   "execution_count": 24,
   "metadata": {},
   "outputs": [
    {
     "name": "stdout",
     "output_type": "stream",
     "text": [
      "Mean = 0.020666666666666687\n",
      "Standard deviation =  0.032015621187164243\n",
      "t statistics:  1.9365546474187172\n",
      "P-value using sf (1-cdf) = 0.0888\n"
     ]
    }
   ],
   "source": [
    "print(\"Mean =\", z.mean())\n",
    "print(\"Standard deviation = \", math.sqrt(z.var()))\n",
    "t_stat = 3*z.mean() /math.sqrt(z.var())\n",
    "print(\"t statistics: \", t_stat)\n",
    "print((\"P-value using sf (1-cdf) = {:.4f}\").format(2 * t.sf(abs(t_stat), 8)))"
   ]
  },
  {
   "cell_type": "markdown",
   "metadata": {},
   "source": [
    "We can say that there is some evidence, although not overwhelming, that the two joysticks result in different error rate measurements"
   ]
  },
  {
   "cell_type": "code",
   "execution_count": 25,
   "metadata": {},
   "outputs": [
    {
     "name": "stdout",
     "output_type": "stream",
     "text": [
      "Confidence interval with 0.99% confidence level: (-0.0151)(0.0565)\n"
     ]
    }
   ],
   "source": [
    "def print_confidence_interval(alpha, mu, wing_span, lower_bound = False, upper_bound = False):\n",
    "    if upper_bound:\n",
    "        print((\"Confidence interval with {:.2f}% confidence level: (-∞)({:.4f})\").format(((1-alpha)*100), mu + wing_span))\n",
    "        return\n",
    "    if lower_bound:\n",
    "        print((\"Confidence interval with {:.2f}% confidence level: ({:.4f})(∞))\").format(((1-alpha)*100), mu - wing_span))\n",
    "        return\n",
    "    # Default case: double bounded\n",
    "    print((\"Confidence interval with {:.2f}% confidence level: ({:.4f})({:.4f})\").format((1-alpha)*1, mu - wing_span, mu + wing_span))\n",
    "\n",
    "ws = t.ppf(1-0.005, 8) * math.sqrt(z.var()) / 3\n",
    "\n",
    "print_confidence_interval(0.01, z.mean(), ws)"
   ]
  },
  {
   "cell_type": "markdown",
   "metadata": {},
   "source": [
    "## 9.7.22"
   ]
  },
  {
   "cell_type": "code",
   "execution_count": 26,
   "metadata": {},
   "outputs": [],
   "source": [
    "data=pd.read_excel(\"DS9.6.13.xls\")\n",
    "dat_A= data['Sphygmomanometer']\n",
    "dat_B= data['Finger Monitor']\n",
    "# We create the difference distribution\n",
    "z = dat_A - dat_B"
   ]
  },
  {
   "cell_type": "markdown",
   "metadata": {},
   "source": [
    "The hypoteses are:\n",
    "- $H_0 : \\mu_A = \\mu_B$\n",
    "- $H_A : \\mu_A \\neq \\mu_B$"
   ]
  },
  {
   "cell_type": "code",
   "execution_count": 27,
   "metadata": {},
   "outputs": [
    {
     "name": "stdout",
     "output_type": "stream",
     "text": [
      "Mean = 0.4\n",
      "Standard deviation =  1.9566735620873066\n",
      "t statistics:  0.7917484901417817\n",
      "P-value using sf (1-cdf) = 0.4417\n"
     ]
    }
   ],
   "source": [
    "print(\"Mean =\", z.mean())\n",
    "print(\"Standard deviation = \", math.sqrt(z.var()))\n",
    "t_stat = math.sqrt(15)*z.mean() /math.sqrt(z.var())\n",
    "print(\"t statistics: \", t_stat)\n",
    "print((\"P-value using sf (1-cdf) = {:.4f}\").format(2 * t.sf(abs(t_stat), 14)))"
   ]
  },
  {
   "cell_type": "markdown",
   "metadata": {},
   "source": [
    "We can conclude from the $p$-value that there is enough evidence to state that the means of measurement of the two instruments are different"
   ]
  }
 ],
 "metadata": {
  "kernelspec": {
   "display_name": "Python 3",
   "language": "python",
   "name": "python3"
  },
  "language_info": {
   "codemirror_mode": {
    "name": "ipython",
    "version": 3
   },
   "file_extension": ".py",
   "mimetype": "text/x-python",
   "name": "python",
   "nbconvert_exporter": "python",
   "pygments_lexer": "ipython3",
   "version": "3.8.5"
  }
 },
 "nbformat": 4,
 "nbformat_minor": 4
}
