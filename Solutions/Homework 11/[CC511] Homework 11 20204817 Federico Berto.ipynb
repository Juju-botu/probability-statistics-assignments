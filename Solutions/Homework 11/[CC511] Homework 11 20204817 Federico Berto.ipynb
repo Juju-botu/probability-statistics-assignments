{
 "cells": [
  {
   "cell_type": "markdown",
   "metadata": {},
   "source": [
    "# **Homework 11 - Federico Berto**"
   ]
  },
  {
   "cell_type": "code",
   "execution_count": 2,
   "metadata": {},
   "outputs": [],
   "source": [
    "# Importing useful libraries\n",
    "import math\n",
    "import numpy as np\n",
    "import pandas as pd\n",
    "import matplotlib.pyplot as plt\n",
    "from scipy.stats import norm\n",
    "from scipy.stats import t\n",
    "from statsmodels.stats.anova import anova_lm\n",
    "from statsmodels.formula.api import ols\n",
    "from statsmodels.stats.multicomp import pairwise_tukeyhsd\n",
    "from statsmodels.graphics.regressionplots import abline_plot\n",
    "from IPython.display import display, Math"
   ]
  },
  {
   "cell_type": "markdown",
   "metadata": {},
   "source": [
    "## Exercise 12.1.6"
   ]
  },
  {
   "cell_type": "markdown",
   "metadata": {},
   "source": [
    "a) Given that $Y_i \\sim N(\\beta_0 + \\beta_1 x_i, \\sigma^2)$, then\n",
    "$$E(20) = \\beta_0 + \\beta_1 x_i = 123 + 20 \\times  (-2.16) = 79.8$$"
   ]
  },
  {
   "cell_type": "markdown",
   "metadata": {},
   "source": [
    "b) The change is:\n",
    "$$E(30) - E(20) = \\beta_0 + \\beta_1 x_j - (\\beta_0 + \\beta_1  x_k) = -2.16 \\times 10 = -21.6$$"
   ]
  },
  {
   "cell_type": "markdown",
   "metadata": {},
   "source": [
    "c) Given the $Y_i$ follows a normal distribution, then we have\n",
    "$$P(N(\\beta_0 + \\beta_1 \\times 25, \\sigma^2) \\leq 60)= 0.0141$$ "
   ]
  },
  {
   "cell_type": "code",
   "execution_count": 2,
   "metadata": {},
   "outputs": [
    {
     "name": "stdout",
     "output_type": "stream",
     "text": [
      "Probability: 0.0141\n"
     ]
    }
   ],
   "source": [
    "# Parameters\n",
    "mu = 123 + 25 * (-2.16)\n",
    "sigma = 4.1\n",
    "purity_level = 60\n",
    "\n",
    "# Calculate the CDF\n",
    "cdf = norm.cdf(purity_level, loc=mu, scale=sigma)\n",
    "\n",
    "# Result\n",
    "print('Probability: {:.4f}'.format(cdf))"
   ]
  },
  {
   "cell_type": "markdown",
   "metadata": {},
   "source": [
    "d) $$P(30 \\leq N(\\beta_0 + \\beta_1 \\times 25, \\sigma^2) \\leq 40)= 0.7428$$ "
   ]
  },
  {
   "cell_type": "code",
   "execution_count": 3,
   "metadata": {},
   "outputs": [
    {
     "name": "stdout",
     "output_type": "stream",
     "text": [
      "Probability: 0.7428\n"
     ]
    }
   ],
   "source": [
    "# Parameters\n",
    "mu = 123 + 40 * (-2.16)\n",
    "sigma = 4.1\n",
    "purity1, purity2 = 30, 40\n",
    "\n",
    "# Calculate the CDF\n",
    "cdf = norm.cdf(purity2, loc=mu, scale=sigma) - norm.cdf(purity1, loc=mu, scale=sigma) \n",
    "\n",
    "# Result\n",
    "print('Probability: {:.4f}'.format(cdf))"
   ]
  },
  {
   "cell_type": "markdown",
   "metadata": {},
   "source": [
    "e) $$P(N(\\beta_0 + \\beta_1 \\times 30, \\sigma^2) \\leq N(\\beta_0 + \\beta_1 \\times 27.5, \\sigma^2))= 0.8242$$ \n",
    "We can calculate this by having as a new random variable the difference between the means and a new variance according to the variance properties"
   ]
  },
  {
   "cell_type": "code",
   "execution_count": 4,
   "metadata": {},
   "outputs": [
    {
     "name": "stdout",
     "output_type": "stream",
     "text": [
      "Probability: 0.8242\n"
     ]
    }
   ],
   "source": [
    "# Parameters \n",
    "# We calculate the parameters first\n",
    "mu = 123 + 30 * (-2.16) - (123 + 27.5 * (-2.16))\n",
    "sigma = math.sqrt(2*4.1**2)\n",
    "\n",
    "# Calculate the CDF\n",
    "cdf = norm.cdf(0, loc=mu, scale=sigma)\n",
    "# Result\n",
    "print('Probability: {:.4f}'.format(cdf))"
   ]
  },
  {
   "cell_type": "markdown",
   "metadata": {},
   "source": [
    "## Exercise 12.2.4"
   ]
  },
  {
   "cell_type": "markdown",
   "metadata": {},
   "source": [
    "We load the data into Python"
   ]
  },
  {
   "cell_type": "code",
   "execution_count": 3,
   "metadata": {},
   "outputs": [
    {
     "name": "stdout",
     "output_type": "stream",
     "text": [
      "                            OLS Regression Results                            \n",
      "==============================================================================\n",
      "Dep. Variable:                      y   R-squared:                       0.908\n",
      "Model:                            OLS   Adj. R-squared:                  0.902\n",
      "Method:                 Least Squares   F-statistic:                     138.3\n",
      "Date:                Tue, 01 Dec 2020   Prob (F-statistic):           1.21e-08\n",
      "Time:                        14:03:42   Log-Likelihood:                -130.11\n",
      "No. Observations:                  16   AIC:                             264.2\n",
      "Df Residuals:                      14   BIC:                             265.8\n",
      "Df Model:                           1                                         \n",
      "Covariance Type:            nonrobust                                         \n",
      "==============================================================================\n",
      "                 coef    std err          t      P>|t|      [0.025      0.975]\n",
      "------------------------------------------------------------------------------\n",
      "Intercept  -2277.0694    765.499     -2.975      0.010   -3918.901    -635.238\n",
      "x              1.0033      0.085     11.760      0.000       0.820       1.186\n",
      "==============================================================================\n",
      "Omnibus:                        3.645   Durbin-Watson:                   2.502\n",
      "Prob(Omnibus):                  0.162   Jarque-Bera (JB):                1.599\n",
      "Skew:                           0.710   Prob(JB):                        0.450\n",
      "Kurtosis:                       3.618   Cond. No.                     3.12e+04\n",
      "==============================================================================\n",
      "\n",
      "Notes:\n",
      "[1] Standard Errors assume that the covariance matrix of the errors is correctly specified.\n",
      "[2] The condition number is large, 3.12e+04. This might indicate that there are\n",
      "strong multicollinearity or other numerical problems.\n"
     ]
    },
    {
     "name": "stderr",
     "output_type": "stream",
     "text": [
      "/home/fedebotu/.local/lib/python3.8/site-packages/scipy/stats/stats.py:1603: UserWarning: kurtosistest only valid for n>=20 ... continuing anyway, n=16\n",
      "  warnings.warn(\"kurtosistest only valid for n>=20 ... continuing \"\n"
     ]
    },
    {
     "data": {
      "image/png": "[encoded data removed]",
      "text/plain": [
       "<Figure size 432x288 with 1 Axes>"
      ]
     },
     "metadata": {
      "needs_background": "light"
     },
     "output_type": "display_data"
    }
   ],
   "source": [
    "# Data loader\n",
    "data = pd.read_excel('DS12.2.1.xls')\n",
    "x = data.iloc[:, 0].to_numpy()\n",
    "y = data.iloc[:, 1].to_numpy()\n",
    "\n",
    "# Data fitting\n",
    "fit = ols('y~x', data).fit()\n",
    "print(fit.summary())\n",
    "\n",
    "# Plots\n",
    "abline_plot(model_results=fit)\n",
    "plt.plot(x, y, 'bo')\n",
    "plt.show()"
   ]
  },
  {
   "cell_type": "markdown",
   "metadata": {},
   "source": [
    "Based on the table, we get the following results:"
   ]
  },
  {
   "cell_type": "markdown",
   "metadata": {},
   "source": [
    "a) Fitted parameters: $\\hat{\\beta}_0 = -2277.0694, \\hat{\\beta}_1 =  1.0033$"
   ]
  },
  {
   "cell_type": "markdown",
   "metadata": {},
   "source": [
    "b) The cost increase for each 1000 feet is: $1.0033 \\times 1000 = 1003.3$"
   ]
  },
  {
   "cell_type": "markdown",
   "metadata": {},
   "source": [
    "c) The for a depth of 10,000 feet would be $-2277.0694 + 1.0033 \\times 10000 = 7.756$ million USD"
   ]
  },
  {
   "cell_type": "markdown",
   "metadata": {},
   "source": [
    "d) The error variance can be calculated as following by Python:"
   ]
  },
  {
   "cell_type": "code",
   "execution_count": 29,
   "metadata": {},
   "outputs": [
    {
     "data": {
      "text/latex": [
       "$\\displaystyle \\hat \\sigma^2 = 776941$"
      ],
      "text/plain": [
       "<IPython.core.display.Math object>"
      ]
     },
     "metadata": {},
     "output_type": "display_data"
    }
   ],
   "source": [
    "# Parameters\n",
    "beta_0 = -2277.0694\n",
    "beta_1 = 1.0033\n",
    "\n",
    "# Calculations\n",
    "Sum_y2 = 0\n",
    "for i in range(len(x)):\n",
    "    Sum_y2 += y[i] ** 2\n",
    "Sum_y = 0\n",
    "for i in range(len(x)):\n",
    "    Sum_y += y[i]\n",
    "Sum_xy = 0\n",
    "for i in range(len(x)):\n",
    "    Sum_xy += x[i] * y[i]\n",
    "SSE = Sum_y2 - beta_0 * Sum_y - beta_1 * Sum_xy\n",
    "sigma2 = SSE / (len(x)-2)\n",
    "\n",
    "# Results\n",
    "display(Math(r'\\hat \\sigma^2 = {:.0f}'.format(sigma2)))"
   ]
  },
  {
   "cell_type": "markdown",
   "metadata": {},
   "source": [
    "e) Using the table we get $-2277.0694 + 1.0033 \\times 20000 = 17.7889$ million USD. However, due to the limited size of the fitted data and that the data fitted are much smaller than 20000, the model should be considered inaccurate in this case."
   ]
  },
  {
   "cell_type": "markdown",
   "metadata": {},
   "source": [
    "## Exercise 12.2.10"
   ]
  },
  {
   "cell_type": "markdown",
   "metadata": {},
   "source": [
    "We want to manually fit the data set. The parameters can be calculated as following:\n",
    "$$\\hat{\\beta}_1 = \\frac{S_{xy}}{S_{xx}} = \\frac{ \\sum_{i=1}^n (x_i - \\bar{x})(y_i - \\bar{y}) }{\\sum_{i=1}^n(x_i - \\bar{x})}$$\n",
    "$$\\hat{\\beta}_0 = \\hat{\\beta}_1 \\bar{x}$$"
   ]
  },
  {
   "cell_type": "markdown",
   "metadata": {},
   "source": [
    "The SSE and $\\sigma^2$ are respectively:\n",
    "$$SSE = \\sum_{i=1}^n (y_i - \\hat{y})^2$$\n",
    "$$\\sigma^2 = \\frac{SSE}{n-2}$$"
   ]
  },
  {
   "cell_type": "markdown",
   "metadata": {},
   "source": [
    "We can calculate by Python:"
   ]
  },
  {
   "cell_type": "code",
   "execution_count": 6,
   "metadata": {},
   "outputs": [
    {
     "data": {
      "text/latex": [
       "$\\displaystyle \\beta_0 = 7.0390$"
      ],
      "text/plain": [
       "<IPython.core.display.Math object>"
      ]
     },
     "metadata": {},
     "output_type": "display_data"
    },
    {
     "data": {
      "text/latex": [
       "$\\displaystyle \\beta_1 = 30.1005$"
      ],
      "text/plain": [
       "<IPython.core.display.Math object>"
      ]
     },
     "metadata": {},
     "output_type": "display_data"
    },
    {
     "data": {
      "text/latex": [
       "$\\displaystyle \\sigma^2 = 1.8494$"
      ],
      "text/plain": [
       "<IPython.core.display.Math object>"
      ]
     },
     "metadata": {},
     "output_type": "display_data"
    }
   ],
   "source": [
    "# Parameters\n",
    "n = 20\n",
    "sum_x = 8.552\n",
    "sum_y = 398.2\n",
    "sum_x2 = 5.196\n",
    "sum_y2 = 9356\n",
    "sum_xy = 216.6\n",
    "\n",
    "# Calculations\n",
    "x_bar = sum_x / n\n",
    "y_bar = sum_y / n\n",
    "beta_1 = (sum_xy - n * x_bar * y_bar) / (sum_x2 - n * x_bar ** 2)\n",
    "beta_0 = y_bar - beta_1 * x_bar\n",
    "sse = sum_y2 - beta_0 * sum_y - beta_1 * sum_xy\n",
    "sigma2 = sse / (n - 2)\n",
    "\n",
    "# Results\n",
    "display(Math(r'\\beta_0 = {:.4f}'.format(beta_0)))\n",
    "display(Math(r'\\beta_1 = {:.4f}'.format(beta_1)))\n",
    "display(Math(r'\\sigma^2 = {:.4f}'.format(sigma2)))"
   ]
  },
  {
   "cell_type": "markdown",
   "metadata": {},
   "source": [
    "If $x  = 0.5$ then we get $7.039 + 30.1 \\times 0.5 = 22.09$"
   ]
  },
  {
   "cell_type": "markdown",
   "metadata": {},
   "source": [
    "## Exercise 12.3.2"
   ]
  },
  {
   "cell_type": "markdown",
   "metadata": {},
   "source": [
    "a) The confidence interval $100(1-\\alpha)$ for $\\beta_1$ will be:\n",
    "$$\\left( \\hat{\\beta} - t_{\\frac{a}{2}, n-2} \\frac{\\hat{\\sigma}}{\\sqrt{S_{xx}}},  \\hat{\\beta} + t_{\\frac{a}{2}, n-2} \\frac{\\hat{\\sigma}}{\\sqrt{S_{xx}}} \\right)$$\n",
    "where\n",
    "$$s.e.(\\beta) = \\frac{\\hat{\\sigma}}{\\sqrt{S_{xx}}}$$\n",
    "We use Python to calculate it:"
   ]
  },
  {
   "cell_type": "code",
   "execution_count": 31,
   "metadata": {},
   "outputs": [
    {
     "name": "stdout",
     "output_type": "stream",
     "text": [
      "Critical point: 2.0860\n",
      "95% Confidence Interval: (48.45, 64.21)\n"
     ]
    }
   ],
   "source": [
    "# Parameters\n",
    "n = 22\n",
    "alpha = 0.05\n",
    "beta_hat = 56.33\n",
    "beta_se = 3.78\n",
    "\n",
    "# Calculations\n",
    "df = n-2\n",
    "critical = t.ppf(1-alpha/2, df)\n",
    "left = beta_hat - critical * beta_se\n",
    "right = beta_hat + critical * beta_se\n",
    "\n",
    "# Printing\n",
    "print('Critical point: {:.4f}'.format(critical))\n",
    "print('95% Confidence Interval: ({:.2f}, {:.2f})'.format(left, right))"
   ]
  },
  {
   "cell_type": "markdown",
   "metadata": {},
   "source": [
    "b) We calculate the t-statistic and we get the $p-value$:"
   ]
  },
  {
   "cell_type": "code",
   "execution_count": 38,
   "metadata": {},
   "outputs": [
    {
     "name": "stdout",
     "output_type": "stream",
     "text": [
      "p-value: 0.1096\n"
     ]
    }
   ],
   "source": [
    "t_stat = (56.33 - 50) / 3.78\n",
    "p_value = t.sf(t_stat, df=df)\n",
    "print('p-value: {:.4f}'.format(2*p_value))"
   ]
  },
  {
   "cell_type": "markdown",
   "metadata": {},
   "source": [
    "## Exercise 12.3.8"
   ]
  },
  {
   "cell_type": "markdown",
   "metadata": {},
   "source": [
    "a) We load the data into Python first and generate the table:"
   ]
  },
  {
   "cell_type": "code",
   "execution_count": 9,
   "metadata": {},
   "outputs": [
    {
     "name": "stdout",
     "output_type": "stream",
     "text": [
      "                            OLS Regression Results                            \n",
      "==============================================================================\n",
      "Dep. Variable:                      y   R-squared:                       0.877\n",
      "Model:                            OLS   Adj. R-squared:                  0.871\n",
      "Method:                 Least Squares   F-statistic:                     156.9\n",
      "Date:                Mon, 30 Nov 2020   Prob (F-statistic):           1.74e-11\n",
      "Time:                        00:21:21   Log-Likelihood:                -49.589\n",
      "No. Observations:                  24   AIC:                             103.2\n",
      "Df Residuals:                      22   BIC:                             105.5\n",
      "Df Model:                           1                                         \n",
      "Covariance Type:            nonrobust                                         \n",
      "==============================================================================\n",
      "                 coef    std err          t      P>|t|      [0.025      0.975]\n",
      "------------------------------------------------------------------------------\n",
      "Intercept     12.8639      4.555      2.824      0.010       3.418      22.310\n",
      "x              0.8051      0.064     12.527      0.000       0.672       0.938\n",
      "==============================================================================\n",
      "Omnibus:                        1.530   Durbin-Watson:                   2.787\n",
      "Prob(Omnibus):                  0.465   Jarque-Bera (JB):                1.146\n",
      "Skew:                          -0.297   Prob(JB):                        0.564\n",
      "Kurtosis:                       2.109   Cond. No.                         793.\n",
      "==============================================================================\n",
      "\n",
      "Notes:\n",
      "[1] Standard Errors assume that the covariance matrix of the errors is correctly specified.\n"
     ]
    },
    {
     "data": {
      "image/png": "[encoded data removed]",
      "text/plain": [
       "<Figure size 432x288 with 1 Axes>"
      ]
     },
     "metadata": {
      "needs_background": "light"
     },
     "output_type": "display_data"
    }
   ],
   "source": [
    "# Data loader\n",
    "data = pd.read_excel('DS12.2.6.xls')\n",
    "x = data.iloc[:, 0].to_numpy()\n",
    "y = data.iloc[:, 1].to_numpy()\n",
    "\n",
    "# Data fitting\n",
    "fit = ols('y~x', data).fit()\n",
    "print(fit.summary())\n",
    "\n",
    "# Plots\n",
    "abline_plot(model_results=fit)\n",
    "plt.plot(x, y, 'bo')\n",
    "plt.show()"
   ]
  },
  {
   "cell_type": "markdown",
   "metadata": {},
   "source": [
    "We can see from the table that the standard error for $\\hat{\\beta}_1$ is $0.064$. "
   ]
  },
  {
   "cell_type": "markdown",
   "metadata": {},
   "source": [
    "b) We use Python to calculate the confidence interval:"
   ]
  },
  {
   "cell_type": "code",
   "execution_count": 10,
   "metadata": {},
   "outputs": [
    {
     "name": "stdout",
     "output_type": "stream",
     "text": [
      "Critical point: 2.8188\n",
      "99% Confidence Interval: (0.62, 0.99)\n"
     ]
    }
   ],
   "source": [
    "# Parameters\n",
    "n = 24\n",
    "alpha = 0.01\n",
    "beta_hat = 0.8051\n",
    "beta_se = 0.0643\n",
    "\n",
    "# Calculations\n",
    "df = n-2\n",
    "critical = t.ppf(1-alpha/2, df)\n",
    "left = beta_hat - critical * beta_se\n",
    "right = beta_hat + critical * beta_se\n",
    "\n",
    "# Printing\n",
    "print('Critical point: {:.4f}'.format(critical))\n",
    "print('99% Confidence Interval: ({:.2f}, {:.2f})'.format(left, right))"
   ]
  },
  {
   "cell_type": "markdown",
   "metadata": {},
   "source": [
    "c) We calculate the $p-value$ by first calculating the t-statistics:"
   ]
  },
  {
   "cell_type": "code",
   "execution_count": 39,
   "metadata": {},
   "outputs": [
    {
     "name": "stdout",
     "output_type": "stream",
     "text": [
      "p-value: 0.0000\n"
     ]
    }
   ],
   "source": [
    "t_stat = (0.8051 - 0) / 0.0643\n",
    "p_value = t.sf(t_stat, df=df)\n",
    "print('p-value: {:.4f}'.format(2*p_value))"
   ]
  },
  {
   "cell_type": "markdown",
   "metadata": {},
   "source": [
    "## Exercise 12.4.2"
   ]
  },
  {
   "cell_type": "markdown",
   "metadata": {},
   "source": [
    "We calculate the mean response at $x_0$, $E(Y_{x_0})$ given the following T-statistics:\n",
    "$$T=\\frac{ \\hat{y}_{x_0} - \\mu_{x_0} }{ \\hat{\\sigma} \\sqrt{ \\frac{1}{n} + \\frac{ (x_0 -\\bar{x})^2}{S_{xx}} }}$$\n",
    "A $100(1-\\alpha)$ confidence interval can be obtained as following:\n",
    "$$\\hat{y}_{x_0} \\pm t_{\\frac{\\alpha}{2}, n-2} \\hat{\\sigma} \\sqrt{ \\frac{1}{n} + \\frac{ (x_0 - \\bar{x})^2 }{S_{xx}} }$$"
   ]
  },
  {
   "cell_type": "markdown",
   "metadata": {},
   "source": [
    "We construct the two sided 95% confidence interval in Python as following:"
   ]
  },
  {
   "cell_type": "code",
   "execution_count": 12,
   "metadata": {},
   "outputs": [
    {
     "name": "stdout",
     "output_type": "stream",
     "text": [
      "Critical point: 2.1314\n",
      "95% Confidence Interval: (1391.90, 1400.26)\n"
     ]
    }
   ],
   "source": [
    "# Parameters\n",
    "n = 17\n",
    "df = n-2\n",
    "alpha = 0.05\n",
    "beta_1 = 34.60\n",
    "beta_0 = 12.08\n",
    "x0 = 40\n",
    "x_bar = 53.2\n",
    "sigma2 = 17.65\n",
    "Sxx = 1096\n",
    "\n",
    "# Calculations\n",
    "temp = math.sqrt(1/n + (x0 - x_bar)**2/Sxx)\n",
    "sigma = math.sqrt(sigma2)\n",
    "critical = t.ppf(1-alpha/2, df)\n",
    "y_se = critical*sigma*temp\n",
    "yhat_x0 = beta_0 + beta_1*x0 # Prediction\n",
    "left = yhat_x0 - y_se\n",
    "right = yhat_x0 + y_se\n",
    "\n",
    "# Printing\n",
    "print('Critical point: {:.4f}'.format(critical))\n",
    "print('{:.0f}% Confidence Interval: ({:.2f}, {:.2f})'.format((1-alpha)*100, left, right))"
   ]
  },
  {
   "cell_type": "markdown",
   "metadata": {},
   "source": [
    "## Exercise 12.4.8"
   ]
  },
  {
   "cell_type": "markdown",
   "metadata": {},
   "source": [
    "We load the data into Python first:"
   ]
  },
  {
   "cell_type": "code",
   "execution_count": 13,
   "metadata": {},
   "outputs": [
    {
     "name": "stdout",
     "output_type": "stream",
     "text": [
      "                            OLS Regression Results                            \n",
      "==============================================================================\n",
      "Dep. Variable:                      y   R-squared:                       0.877\n",
      "Model:                            OLS   Adj. R-squared:                  0.871\n",
      "Method:                 Least Squares   F-statistic:                     156.9\n",
      "Date:                Mon, 30 Nov 2020   Prob (F-statistic):           1.74e-11\n",
      "Time:                        00:21:22   Log-Likelihood:                -49.589\n",
      "No. Observations:                  24   AIC:                             103.2\n",
      "Df Residuals:                      22   BIC:                             105.5\n",
      "Df Model:                           1                                         \n",
      "Covariance Type:            nonrobust                                         \n",
      "==============================================================================\n",
      "                 coef    std err          t      P>|t|      [0.025      0.975]\n",
      "------------------------------------------------------------------------------\n",
      "Intercept     12.8639      4.555      2.824      0.010       3.418      22.310\n",
      "x              0.8051      0.064     12.527      0.000       0.672       0.938\n",
      "==============================================================================\n",
      "Omnibus:                        1.530   Durbin-Watson:                   2.787\n",
      "Prob(Omnibus):                  0.465   Jarque-Bera (JB):                1.146\n",
      "Skew:                          -0.297   Prob(JB):                        0.564\n",
      "Kurtosis:                       2.109   Cond. No.                         793.\n",
      "==============================================================================\n",
      "\n",
      "Notes:\n",
      "[1] Standard Errors assume that the covariance matrix of the errors is correctly specified.\n"
     ]
    },
    {
     "data": {
      "image/png": "[encoded data removed]",
      "text/plain": [
       "<Figure size 432x288 with 1 Axes>"
      ]
     },
     "metadata": {
      "needs_background": "light"
     },
     "output_type": "display_data"
    }
   ],
   "source": [
    "# Data loader\n",
    "data = pd.read_excel('DS12.2.6.xls')\n",
    "x = data.iloc[:, 0].to_numpy()\n",
    "y = data.iloc[:, 1].to_numpy()\n",
    "\n",
    "# Data fitting\n",
    "fit = ols('y~x', data).fit()\n",
    "print(fit.summary())\n",
    "\n",
    "# Plots\n",
    "abline_plot(model_results=fit)\n",
    "plt.plot(x, y, 'bo')\n",
    "plt.show()"
   ]
  },
  {
   "cell_type": "markdown",
   "metadata": {},
   "source": [
    "We calculate the mean response at $x_0$, $E(Y_{x_0})$ given the following T-statistics:\n",
    "$$T=\\frac{ \\hat{y}_{x_0} - \\mu_{x_0} }{ \\hat{\\sigma} \\sqrt{ \\frac{1}{n} + \\frac{ (x_0 -\\bar{x})^2}{S_{xx}} }}$$\n",
    "A $100(1-\\alpha)$ confidence interval can be obtained as following:\n",
    "$$\\hat{y}_{x_0} \\pm t_{\\frac{\\alpha}{2}, n-2} \\hat{\\sigma} \\sqrt{ \\frac{1}{n} + \\frac{ (x_0 - \\bar{x})^2 }{S_{xx}} }$$"
   ]
  },
  {
   "cell_type": "code",
   "execution_count": 14,
   "metadata": {},
   "outputs": [],
   "source": [
    "# Data\n",
    "x = data['Temperature (Degrees F)'].to_numpy() # x\n",
    "y = data['Resistance (Ohms)'].to_numpy() # y"
   ]
  },
  {
   "cell_type": "code",
   "execution_count": 15,
   "metadata": {},
   "outputs": [
    {
     "name": "stdout",
     "output_type": "stream",
     "text": [
      "Critical point: 2.8188\n",
      "99% Confidence Interval: (68.07, 70.37)\n"
     ]
    }
   ],
   "source": [
    "# Parameters\n",
    "n = len(x)\n",
    "df = n-2\n",
    "alpha = 0.01\n",
    "beta_1 = 0.8051\n",
    "beta_0 = 12.8639\n",
    "x0 = 70\n",
    "\n",
    "# Calculations\n",
    "x_bar = x.mean()\n",
    "\n",
    "# Obtain the SSE\n",
    "SSE = 0\n",
    "for i in range(n):\n",
    "    SSE += (y[i] -beta_0 - beta_1*x[i])**2\n",
    "\n",
    "# Obtain Sxx\n",
    "Sxx = 0\n",
    "for i in range(n):\n",
    "    Sxx += (x[i] - x_bar)**2\n",
    "temp = math.sqrt(1/n + (x0 - x_bar)**2/Sxx)\n",
    "\n",
    "sigma = math.sqrt(SSE/(n-2))\n",
    "critical = t.ppf(1-alpha/2, df)\n",
    "y_se = critical*sigma*temp\n",
    "yhat_x0 = beta_0 + beta_1*x0 # Prediction\n",
    "left = yhat_x0 - y_se\n",
    "right = yhat_x0 + y_se\n",
    "\n",
    "# Printing\n",
    "print('Critical point: {:.4f}'.format(critical))\n",
    "print('99% Confidence Interval: ({:.2f}, {:.2f})'.format(left, right))"
   ]
  },
  {
   "cell_type": "markdown",
   "metadata": {},
   "source": [
    "## Exercise 12.5.4"
   ]
  },
  {
   "cell_type": "markdown",
   "metadata": {},
   "source": [
    "We load the data into Python first:"
   ]
  },
  {
   "cell_type": "code",
   "execution_count": 16,
   "metadata": {},
   "outputs": [
    {
     "name": "stdout",
     "output_type": "stream",
     "text": [
      "                            OLS Regression Results                            \n",
      "==============================================================================\n",
      "Dep. Variable:                      y   R-squared:                       0.278\n",
      "Model:                            OLS   Adj. R-squared:                  0.238\n",
      "Method:                 Least Squares   F-statistic:                     6.939\n",
      "Date:                Mon, 30 Nov 2020   Prob (F-statistic):             0.0168\n",
      "Time:                        00:21:22   Log-Likelihood:                -67.808\n",
      "No. Observations:                  20   AIC:                             139.6\n",
      "Df Residuals:                      18   BIC:                             141.6\n",
      "Df Model:                           1                                         \n",
      "Covariance Type:            nonrobust                                         \n",
      "==============================================================================\n",
      "                 coef    std err          t      P>|t|      [0.025      0.975]\n",
      "------------------------------------------------------------------------------\n",
      "Intercept     54.2181      6.184      8.767      0.000      41.226      67.211\n",
      "x             -0.3377      0.128     -2.634      0.017      -0.607      -0.068\n",
      "==============================================================================\n",
      "Omnibus:                        2.263   Durbin-Watson:                   2.176\n",
      "Prob(Omnibus):                  0.323   Jarque-Bera (JB):                1.097\n",
      "Skew:                          -0.076   Prob(JB):                        0.578\n",
      "Kurtosis:                       1.863   Cond. No.                         176.\n",
      "==============================================================================\n",
      "\n",
      "Notes:\n",
      "[1] Standard Errors assume that the covariance matrix of the errors is correctly specified.\n"
     ]
    },
    {
     "data": {
      "image/png": "[encoded data removed]",
      "text/plain": [
       "<Figure size 432x288 with 1 Axes>"
      ]
     },
     "metadata": {
      "needs_background": "light"
     },
     "output_type": "display_data"
    }
   ],
   "source": [
    "# Data loader\n",
    "data = pd.read_excel('DS12.2.3.xls')\n",
    "x = data.iloc[:, 1].to_numpy() \n",
    "y = data.iloc[:, 0].to_numpy() # The predictions are actually the first column\n",
    "\n",
    "# Data fitting\n",
    "fit = ols('y~x', data).fit()\n",
    "print(fit.summary())\n",
    "\n",
    "# Plots\n",
    "abline_plot(model_results=fit)\n",
    "plt.plot(x, y, 'bo')\n",
    "plt.show()"
   ]
  },
  {
   "cell_type": "markdown",
   "metadata": {},
   "source": [
    "We predict the interval for a single response $Y_{x_0}^{new}$ at $x_0$ given the following T-statistics:\n",
    "$$T=\\frac{ Y_{x_0}^{new} - \\hat{y}_{x_0} }{ \\hat{\\sigma} \\sqrt{ 1 + \\frac{1}{n} + \\frac{ (x_0 -\\bar{x})^2}{S_{xx}} }}$$\n",
    "A $100(1-\\alpha)$ confidence interval for a single response $Y_{x_0}^{new}$ can be obtained as following:\n",
    "$$\\hat{y}_{x_0} \\pm t_{\\frac{\\alpha}{2}, n-2} \\hat{\\sigma} \\sqrt{1+ \\frac{1}{n} + \\frac{ (x_0 - \\bar{x})^2 }{S_{xx}} }$$"
   ]
  },
  {
   "cell_type": "code",
   "execution_count": 17,
   "metadata": {},
   "outputs": [],
   "source": [
    "# Data\n",
    "x = data['Age'].to_numpy() # x\n",
    "y = data['VO2-max'].to_numpy() # y"
   ]
  },
  {
   "cell_type": "code",
   "execution_count": 18,
   "metadata": {},
   "outputs": [
    {
     "name": "stdout",
     "output_type": "stream",
     "text": [
      "Critical point: 2.1009\n",
      "95% Confidence Interval: (21.01, 53.66)\n"
     ]
    }
   ],
   "source": [
    "# Parameters\n",
    "n = len(x)\n",
    "df = n-2\n",
    "alpha = 0.05\n",
    "beta_0 = 54.2181\n",
    "beta_1 = -0.3377\n",
    "x0 = 50\n",
    "\n",
    "# Calculations\n",
    "x_bar = x.mean()\n",
    "\n",
    "# Obtain the SSE\n",
    "SSE = 0\n",
    "for i in range(n):\n",
    "    SSE += (y[i] -beta_0 - beta_1*x[i])**2\n",
    "\n",
    "# Obtain Sxx\n",
    "Sxx = 0\n",
    "for i in range(n):\n",
    "    Sxx += (x[i] - x_bar)**2\n",
    "temp = math.sqrt(1 + 1/n + (x0 - x_bar)**2/Sxx)\n",
    "\n",
    "sigma = math.sqrt(SSE/(n-2))\n",
    "critical = t.ppf(1-alpha/2, df)\n",
    "y_se = critical*sigma*temp\n",
    "yhat_x0 = beta_0 + beta_1*x0 # Prediction\n",
    "left = yhat_x0 - y_se\n",
    "right = yhat_x0 + y_se\n",
    "\n",
    "# Printing\n",
    "print('Critical point: {:.4f}'.format(critical))\n",
    "print('{:.0f}% Confidence Interval: ({:.2f}, {:.2f})'.format((1-alpha)*100, left, right))"
   ]
  },
  {
   "cell_type": "markdown",
   "metadata": {},
   "source": [
    "## Exercise 12.5.10"
   ]
  },
  {
   "cell_type": "markdown",
   "metadata": {},
   "source": [
    "We can solve the problem in Python as following to get the $95%$ confidence interval as per the formulas we explained in previous exercises:"
   ]
  },
  {
   "cell_type": "code",
   "execution_count": 19,
   "metadata": {},
   "outputs": [
    {
     "name": "stdout",
     "output_type": "stream",
     "text": [
      "Critical point: 2.0484\n",
      "95% Confidence Interval: (120.49, 134.83)\n"
     ]
    }
   ],
   "source": [
    "# Parameters\n",
    "n = 30\n",
    "df = n-2\n",
    "alpha = 0.05\n",
    "beta_0 = 51.98\n",
    "beta_1 = 3.44\n",
    "x0 = 22 # New value\n",
    "\n",
    "# Calculate x_bar\n",
    "x_bar = 603.36/n\n",
    "\n",
    "# Calculate Sxx\n",
    "Sxx = 12578.22 - 603.36**2/(n)\n",
    "\n",
    "# Calculate Sigma\n",
    "sigma = math.sqrt(329.77/(n-2))\n",
    "\n",
    "# Final calculations\n",
    "temp = math.sqrt(1 + 1/n + (x0 - x_bar)**2/Sxx)\n",
    "critical = t.ppf(1-alpha/2, df)\n",
    "y_se = critical*sigma*temp\n",
    "yhat_x0 = beta_0 + beta_1*x0 # Prediction\n",
    "left = yhat_x0 - y_se\n",
    "right = yhat_x0 + y_se\n",
    "\n",
    "# Printing\n",
    "print('Critical point: {:.4f}'.format(critical))\n",
    "print('{:.0f}% Confidence Interval: ({:.2f}, {:.2f})'.format((1-alpha)*100, left, right))"
   ]
  },
  {
   "cell_type": "markdown",
   "metadata": {},
   "source": [
    "## Exercise 12.6.6"
   ]
  },
  {
   "cell_type": "markdown",
   "metadata": {},
   "source": [
    "We can print the results with the ANOVA able by Python:"
   ]
  },
  {
   "cell_type": "code",
   "execution_count": 20,
   "metadata": {},
   "outputs": [
    {
     "name": "stdout",
     "output_type": "stream",
     "text": [
      "                            OLS Regression Results                            \n",
      "==============================================================================\n",
      "Dep. Variable:                      y   R-squared:                       0.111\n",
      "Model:                            OLS   Adj. R-squared:                  0.022\n",
      "Method:                 Least Squares   F-statistic:                     1.245\n",
      "Date:                Mon, 30 Nov 2020   Prob (F-statistic):              0.291\n",
      "Time:                        00:21:22   Log-Likelihood:                -41.453\n",
      "No. Observations:                  12   AIC:                             86.91\n",
      "Df Residuals:                      10   BIC:                             87.88\n",
      "Df Model:                           1                                         \n",
      "Covariance Type:            nonrobust                                         \n",
      "==============================================================================\n",
      "                 coef    std err          t      P>|t|      [0.025      0.975]\n",
      "------------------------------------------------------------------------------\n",
      "Intercept     36.1935     16.952      2.135      0.059      -1.577      73.964\n",
      "x              0.2659      0.238      1.116      0.291      -0.265       0.797\n",
      "==============================================================================\n",
      "Omnibus:                        0.047   Durbin-Watson:                   1.328\n",
      "Prob(Omnibus):                  0.977   Jarque-Bera (JB):                0.273\n",
      "Skew:                           0.054   Prob(JB):                        0.872\n",
      "Kurtosis:                       2.269   Cond. No.                         498.\n",
      "==============================================================================\n",
      "\n",
      "Notes:\n",
      "[1] Standard Errors assume that the covariance matrix of the errors is correctly specified.\n",
      "\n",
      "ANOVA results\n",
      "            df      sum_sq    mean_sq        F   PR(>F)\n",
      "x          1.0   87.588894  87.588894  1.24535  0.29054\n",
      "Residual  10.0  703.327773  70.332777      NaN      NaN\n"
     ]
    },
    {
     "name": "stderr",
     "output_type": "stream",
     "text": [
      "/home/fedebotu/.local/lib/python3.8/site-packages/scipy/stats/stats.py:1603: UserWarning: kurtosistest only valid for n>=20 ... continuing anyway, n=12\n",
      "  warnings.warn(\"kurtosistest only valid for n>=20 ... continuing \"\n"
     ]
    }
   ],
   "source": [
    "# Data loader\n",
    "data = pd.read_excel('DS12.2.2.xls')\n",
    "x = data.iloc[:, 1].to_numpy()\n",
    "y = data.iloc[:, 0].to_numpy()\n",
    "\n",
    "# Data processing\n",
    "data = pd.DataFrame({'x': x, 'y': y})\n",
    "\n",
    "# Fit the model\n",
    "model = ols(\"y ~ x\", data).fit()\n",
    "\n",
    "# Print the summary\n",
    "print(model.summary())\n",
    "\n",
    "# Anova table\n",
    "anova_results = anova_lm(model)\n",
    "print('\\nANOVA results')\n",
    "print(anova_results)"
   ]
  },
  {
   "cell_type": "markdown",
   "metadata": {},
   "source": [
    "The coefficient of determination can be calculated as:\n",
    "$$R^2 = \\frac{SSR}{SST} = \\frac{87.589}{703.328 + 87.589} = 0.1107$$"
   ]
  },
  {
   "cell_type": "markdown",
   "metadata": {},
   "source": [
    "We can verify that the F-statistics is the square of the t-statistics. By the OLS regression results we get $t = 1.116 \\Longrightarrow t^2 = 1.2454 = F$. "
   ]
  },
  {
   "cell_type": "markdown",
   "metadata": {},
   "source": [
    "The $p-value$ is large; thus the evidence to conclude that on average the truck takes more time to be unloaded when the temperature is higher is insufficient."
   ]
  }
 ],
 "metadata": {
  "kernelspec": {
   "display_name": "Python 3",
   "language": "python",
   "name": "python3"
  },
  "language_info": {
   "codemirror_mode": {
    "name": "ipython",
    "version": 3
   },
   "file_extension": ".py",
   "mimetype": "text/x-python",
   "name": "python",
   "nbconvert_exporter": "python",
   "pygments_lexer": "ipython3",
   "version": "3.8.5"
  }
 },
 "nbformat": 4,
 "nbformat_minor": 4
}
