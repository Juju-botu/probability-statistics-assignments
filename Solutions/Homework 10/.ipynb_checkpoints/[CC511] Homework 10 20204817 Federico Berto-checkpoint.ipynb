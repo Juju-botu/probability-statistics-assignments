{
 "cells": [
  {
   "cell_type": "markdown",
   "metadata": {},
   "source": [
    "# **Homework 10 - Federico Berto**"
   ]
  },
  {
   "cell_type": "code",
   "execution_count": 88,
   "metadata": {},
   "outputs": [],
   "source": [
    "# Importing useful libraries\n",
    "import numpy as np\n",
    "import pandas as pd\n",
    "import math\n",
    "import matplotlib.pyplot as plt\n",
    "from scipy import stats\n",
    "import statsmodels.stats.weightstats as sms\n",
    "from scipy.stats import t\n",
    "from scipy.stats import f\n",
    "from scipy.stats import norm\n",
    "from statsmodels.stats.anova import anova_lm\n",
    "from statsmodels.formula.api import ols\n",
    "from statsmodels.stats.multicomp import pairwise_tukeyhsd\n",
    "from IPython.display import display, Math"
   ]
  },
  {
   "cell_type": "markdown",
   "metadata": {},
   "source": [
    "## Exercise 11.1.4"
   ]
  },
  {
   "cell_type": "markdown",
   "metadata": {},
   "source": [
    "The $p$-value will not change. We can prove this by showing the new $F'$ statistics is the same as the original $F$."
   ]
  },
  {
   "cell_type": "markdown",
   "metadata": {},
   "source": [
    "Given $x_{ij}$ is replaced by the value $a x_{ij} + b$, then we have to calculate first the $MSTr$ and $MSE$ of the function.\n",
    "In this case we have:\n",
    "$$SSTr' = \\sum_{i=1}^k n_i \\overline x_{i\\cdot}'^2 - n_T \\overline x_{\\cdot \\cdot}'^2$$  \n",
    "Then,\n",
    "$$SSE = \\sum_{i=1}^k \\sum_{j=1}^{n_i} (x_{ij}' - \\overline x_{i \\cdot}')^2$$\n",
    "Also, we can notice that by the properties of mean and variance:\n",
    "$$\\mu_{i\\cdot}' = a \\times \\mu_{i \\cdot} +b$$\n",
    "$$\\sigma_{i\\cdot}'^2 = a^2 \\times \\sigma_{i\\cdot}^2$$\n",
    "$$\\sigma_{\\cdot \\cdot}'^2 = a^2 \\times \\sigma_{\\cdot \\cdot}^2$$\n",
    "Therefore:\n",
    "$$SSTr' = a^2 \\times SSTr$$\n",
    "$$SSE' = a^2 \\times SSE$$\n",
    "By which we can get the $F'$ value as\n",
    "$$F' = \\frac{ \\frac{SSTr'}{k-1} }{ \\frac{SSE'}{n_T -k} } = \\frac{ a^2 \\times \\frac{SSTr}{k-1} }{ a^2 \\times \\frac{SSE}{n_T -k} } = F$$\n",
    "Hence, the $p$-value will not change."
   ]
  },
  {
   "cell_type": "markdown",
   "metadata": {},
   "source": [
    "## Exercise 11.1.8"
   ]
  },
  {
   "cell_type": "markdown",
   "metadata": {},
   "source": [
    "a) First, we get the $q_{\\alpha, k, \\nu} = 3.49$. Therefore, we can calculate the ranges with the following:\n",
    "$$ \\left( \\overline x _{i_1} - \\overline x_{i_2} - \\hat{\\sigma} \\frac{q_{\\alpha, k, \\nu}}{\\sqrt{2}} \\sqrt{ \\frac{1}{n_{i_1}} + \\frac{1}{n_{i_2}} } , \n",
    "\\overline x _{i_1} - \\overline x_{i_2} + \\hat{\\sigma} \\frac{q_{\\alpha, k, \\nu}}{\\sqrt{2}} \\sqrt{ \\frac{1}{n_{i_1}} + \\frac{1}{n_{i_2}} } \\right)$$\n",
    "So:\n",
    "$$ \\mu_1 - \\mu_2 \\in \\left( 48.05 - 44.74 - \\frac{ \\sqrt{4.96} \\times 3.49}{ \\sqrt{11} } , 48.05 - 44.74 + \\frac{ \\sqrt{4.96} \\times 3.49}{ \\sqrt{11} } \\right) = \\left( 0.97, 5.65 \\right)$$\n",
    "$$ \\mu_1 - \\mu_3 \\in \\left( 48.05 - 49.11 - \\frac{ \\sqrt{4.96} \\times 3.49}{ \\sqrt{11} } , 48.05 - 49.11 + \\frac{ \\sqrt{4.96} \\times 3.49}{ \\sqrt{11} } \\right) = \\left( -3.40, 1.28 \\right)$$\n",
    "$$ \\mu_2 - \\mu_3 \\in \\left( 44.74 - 49.11 - \\frac{ \\sqrt{4.96} \\times 3.49}{ \\sqrt{11} } , 44.74 - 49.11 + \\frac{ \\sqrt{4.96} \\times 3.49}{ \\sqrt{11} } \\right) = \\left( -6.71, -2.03 \\right)$$"
   ]
  },
  {
   "cell_type": "markdown",
   "metadata": {},
   "source": [
    "b) Diagram:"
   ]
  },
  {
   "cell_type": "code",
   "execution_count": 43,
   "metadata": {},
   "outputs": [
    {
     "data": {
      "image/png": "[encoded data removed]",
      "text/plain": [
       "<Figure size 432x288 with 1 Axes>"
      ]
     },
     "metadata": {
      "needs_background": "light"
     },
     "output_type": "display_data"
    }
   ],
   "source": [
    "# Use matplotlib to plot the means and their groupings\n",
    "\n",
    "plt.scatter([44.74, 48.05, 49.11], [1, 1, 1])\n",
    "plt.title('Means $\\mu_1, \\mu_2, \\mu_3$ respectively')\n",
    "plt.annotate('Indistinguishable',(48, 1.005))\n",
    "plt.show()"
   ]
  },
  {
   "cell_type": "markdown",
   "metadata": {},
   "source": [
    "c) We know that $L = 2q_{\\alpha, k, \\nu} \\sqrt{ \\frac{s^2}{n} } $  and $L \\leq 2.0 $, so:\n",
    "$$ n \\geq \\frac { 4 s^2 q_{\\alpha, k, \\nu}^2 }{L^2} = \\frac{ 4 \\cdot 4.96 \\cdot 3.49 ^2}{2^2} = 60.4 $$\n",
    "Hence, n is at least 61; then 61-11 = 50 new observations from each factor level should be collected."
   ]
  },
  {
   "cell_type": "markdown",
   "metadata": {},
   "source": [
    "## Exercise 11.1.16"
   ]
  },
  {
   "cell_type": "markdown",
   "metadata": {},
   "source": [
    "We transfer the data to Python to perform the hard-coded calculations without using packages."
   ]
  },
  {
   "cell_type": "code",
   "execution_count": 108,
   "metadata": {},
   "outputs": [
    {
     "data": {
      "text/latex": [
       "$\\displaystyle F: 52.8394 \\\\ p-value: 0.0000$"
      ],
      "text/plain": [
       "<IPython.core.display.Math object>"
      ]
     },
     "metadata": {},
     "output_type": "display_data"
    },
    {
     "data": {
      "text/latex": [
       "$\\displaystyle \\mu_1 - \\mu_2 \\in (-5.1168, -2.8532)$"
      ],
      "text/plain": [
       "<IPython.core.display.Math object>"
      ]
     },
     "metadata": {},
     "output_type": "display_data"
    },
    {
     "data": {
      "text/latex": [
       "$\\displaystyle \\mu_1 - \\mu_3 \\in (-0.7420, 1.4647)$"
      ],
      "text/plain": [
       "<IPython.core.display.Math object>"
      ]
     },
     "metadata": {},
     "output_type": "display_data"
    },
    {
     "data": {
      "text/latex": [
       "$\\displaystyle \\mu_2 - \\mu_3 \\in (3.1915, 5.5013)$"
      ],
      "text/plain": [
       "<IPython.core.display.Math object>"
      ]
     },
     "metadata": {},
     "output_type": "display_data"
    }
   ],
   "source": [
    "# Load the data\n",
    "data = pd.read_excel('DS 11.1.4.xls') # Tranform file to csv\n",
    "\n",
    "def eliminate_nan(x):\n",
    "    return x[np.logical_not(np.isnan(x))]\n",
    "\n",
    "# Transfor layouts to arrays\n",
    "l1 = eliminate_nan(data['Layout 1'].to_numpy())\n",
    "l2 = eliminate_nan(data['Layout 2'].to_numpy())\n",
    "l3 = eliminate_nan(data['Layout 3'].to_numpy())\n",
    "layout_list = [l1, l2, l3]\n",
    "\n",
    "# Hard coded calculations\n",
    "k = 3\n",
    "df_treatments = k - 1\n",
    "nt = np.count_nonzero(l1) + np.count_nonzero(l2) + np.count_nonzero(l3)\n",
    "df_error = nt -k\n",
    "df_total = nt -1\n",
    "\n",
    "# Sum of Squares\n",
    "stack = np.hstack((l1, l2, l3))\n",
    "SST = 0\n",
    "for i in range(len(stack)):\n",
    "    SST += (stack[i] - stack.mean())**2\n",
    "SSTr = 0\n",
    "for i in range(3):\n",
    "    SSTr += len(layout_list[i]) * (layout_list[i].mean() - stack.mean())**2\n",
    "SSE = SST - SSTr\n",
    "\n",
    "# Mean of Squares\n",
    "MSTr = SSTr / (k-1)\n",
    "MSE = SSE / (nt-k)\n",
    "\n",
    "# F-value\n",
    "F = MSTr/MSE\n",
    "\n",
    "# p-value\n",
    "p = f.sf(F, k-1, nt-k)\n",
    "\n",
    "# sigma\n",
    "sigma = math.sqrt(MSE)\n",
    "\n",
    "# Return the left and right confidence interval\n",
    "def print_confidence_interval(data1, data2, q):\n",
    "    diff = data1.mean() - data2.mean()\n",
    "    left = diff - sigma*q/(math.sqrt(2)) * math.sqrt( 1/len(data1) + 1/len(data2))\n",
    "    right = diff + sigma*q/(math.sqrt(2)) * math.sqrt( 1/len(data1) + 1/len(data2))\n",
    "    return left, right\n",
    "\n",
    "# Critical value\n",
    "q = 3.49\n",
    "\n",
    "# Print functions\n",
    "display(Math(r'F: {:.4f} \\\\ p-value: {:.4f}'.format(F, p)))\n",
    "left, right = confidence_interval(l1, l2, q)\n",
    "display(Math(r'\\mu_1 - \\mu_2 \\in ({:.4f}, {:.4f})'.format(left, right)))\n",
    "left, right = confidence_interval(l1, l3, q)\n",
    "display(Math(r'\\mu_1 - \\mu_3 \\in ({:.4f}, {:.4f})'.format(left, right)))\n",
    "left, right = confidence_interval(l2, l3, q)\n",
    "display(Math(r'\\mu_2 - \\mu_3 \\in ({:.4f}, {:.4f})'.format(left, right)))"
   ]
  },
  {
   "cell_type": "markdown",
   "metadata": {},
   "source": [
    "Therefore, we have enough evidence to conclude that layout 2 is slower than the other layouts."
   ]
  },
  {
   "cell_type": "markdown",
   "metadata": {},
   "source": [
    "We can check the manually calculated results by the Python packages to verify our results:"
   ]
  },
  {
   "cell_type": "code",
   "execution_count": 36,
   "metadata": {},
   "outputs": [
    {
     "name": "stdout",
     "output_type": "stream",
     "text": [
      "     Layout 1  Layout 2  Layout 3\n",
      "0   23.799999      30.2      27.0\n",
      "1   25.600000      29.9      25.4\n",
      "2   24.000000      29.1      25.6\n",
      "3   25.100000      28.8      24.2\n",
      "4   25.500000      29.1      24.8\n",
      "5   26.100000      28.6      24.0\n",
      "6   23.799999      28.3      25.5\n",
      "7   25.700001      28.7      23.9\n",
      "8   24.299999      27.9      22.6\n",
      "9   26.000000      30.5      26.0\n",
      "10  24.600000       NaN      23.4\n",
      "11  27.000000       NaN       NaN\n",
      "\n",
      "ANOVA TABLE\n",
      "                df      sum_sq    mean_sq         F        PR(>F)\n",
      "C(variable)   2.0  121.238197  60.619098  52.83944  1.476166e-10\n",
      "Residual     30.0   34.416961   1.147232       NaN           NaN\n",
      "\n",
      " Multiple Comparison of Means - Tukey HSD, FWER=0.05 \n",
      "====================================================\n",
      "group1 group2 meandiff p-adj   lower   upper  reject\n",
      "----------------------------------------------------\n",
      "     0      1    3.985  0.001  2.8546  5.1154   True\n",
      "     0      2  -0.3614 0.6879 -1.4633  0.7406  False\n",
      "     1      2  -4.3464  0.001 -5.4998 -3.1929   True\n",
      "----------------------------------------------------\n"
     ]
    },
    {
     "data": {
      "image/png": "[encoded data removed]",
      "text/plain": [
       "<Figure size 648x432 with 1 Axes>"
      ]
     },
     "metadata": {
      "needs_background": "light"
     },
     "output_type": "display_data"
    }
   ],
   "source": [
    "# Data loader\n",
    "data = pd.read_excel('DS 11.1.4.xls') # Tranform file to csv\n",
    "print(data)\n",
    "\n",
    "# Data processing (groups will start from 0)\n",
    "value_vars = []\n",
    "for i in range(len(data.columns)): \n",
    "    value_vars.append(i) # count number of groups\n",
    "data = data.T.reset_index(drop=True).T\n",
    "proc_data = pd.melt(data, value_vars=value_vars)\n",
    "proc_data.dropna(subset = ['value'], inplace=True)\n",
    "\n",
    "# Anova table\n",
    "model = ols('value ~ C(variable)', proc_data).fit()\n",
    "print(\"\\nANOVA TABLE\\n\",anova_lm(model))\n",
    "\n",
    "# Tukey comparison\n",
    "comp = pairwise_tukeyhsd(proc_data['value'], proc_data['variable'], alpha=0.05)\n",
    "print('\\n', comp)\n",
    "\n",
    "# Boxplots\n",
    "proc_data.boxplot('value', by='variable', grid=False, figsize=(9,6))\n",
    "plt.show()"
   ]
  },
  {
   "cell_type": "markdown",
   "metadata": {},
   "source": [
    "The results are the same as the manual calculations.\n",
    "As we can see, the time taken to perform a numerical task by the Layout 3 is considerably greater than the other 2. Layout 1 and 3 are similar there is some evidence they have the same mean, however layout 3 has a smaller mean."
   ]
  },
  {
   "cell_type": "markdown",
   "metadata": {},
   "source": [
    "## Exercise 11.1.20"
   ]
  },
  {
   "cell_type": "code",
   "execution_count": 33,
   "metadata": {},
   "outputs": [
    {
     "name": "stdout",
     "output_type": "stream",
     "text": [
      "   Treatment1  Treatment2  Treatment3  Treatment4  Treatment5\n",
      "0        37.0        45.0        22.0        33.0          30\n",
      "1        40.0        38.0        21.0        38.0          27\n",
      "2        29.0        40.0        19.0        26.0          22\n",
      "3        30.0        42.0        18.0        27.0          28\n",
      "4        32.0        35.0        22.0         NaN          28\n",
      "5         NaN         NaN         NaN         NaN          24\n",
      "\n",
      "ANOVA TABLE\n",
      "                df   sum_sq  mean_sq         F    PR(>F)\n",
      "C(variable)   4.0  1102.74  275.685  18.50856  0.000002\n",
      "Residual     20.0   297.90   14.895       NaN       NaN\n",
      "\n",
      "  Multiple Comparison of Means - Tukey HSD, FWER=0.05  \n",
      "======================================================\n",
      "group1 group2 meandiff p-adj   lower    upper   reject\n",
      "------------------------------------------------------\n",
      "     0      1      6.4 0.1039  -0.9046  13.7046  False\n",
      "     0      2    -13.2  0.001 -20.5046  -5.8954   True\n",
      "     0      3     -2.6  0.834 -10.3477   5.1477  False\n",
      "     0      4     -7.1 0.0455 -14.0937  -0.1063   True\n",
      "     1      2    -19.6  0.001 -26.9046 -12.2954   True\n",
      "     1      3     -9.0  0.018 -16.7477  -1.2523   True\n",
      "     1      4    -13.5  0.001 -20.4937  -6.5063   True\n",
      "     2      3     10.6 0.0046   2.8523  18.3477   True\n",
      "     2      4      6.1 0.1063  -0.8937  13.0937  False\n",
      "     3      4     -4.5 0.3988 -11.9553   2.9553  False\n",
      "------------------------------------------------------\n"
     ]
    },
    {
     "data": {
      "image/png": "[encoded data removed]",
      "text/plain": [
       "<Figure size 648x432 with 1 Axes>"
      ]
     },
     "metadata": {
      "needs_background": "light"
     },
     "output_type": "display_data"
    }
   ],
   "source": [
    "# Data loader\n",
    "data = pd.read_excel('DS 11.1.7.xls') # Tranform file to csv\n",
    "print(data)\n",
    "\n",
    "# Data processing\n",
    "value_vars = []\n",
    "for i in range(len(data.columns)): \n",
    "    value_vars.append(i) # count number of colums\n",
    "data = data.T.reset_index(drop=True).T\n",
    "proc_data = pd.melt(data, value_vars=value_vars)\n",
    "proc_data.dropna(subset = ['value'], inplace=True)\n",
    "\n",
    "# Anova table\n",
    "model = ols('value ~ C(variable)', proc_data).fit()\n",
    "print(\"\\nANOVA TABLE\\n\",anova_lm(model))\n",
    "\n",
    "# Tukey comparison\n",
    "comp = pairwise_tukeyhsd(proc_data['value'], proc_data['variable'], alpha=0.05)\n",
    "print('\\n', comp)\n",
    "\n",
    "# Boxplots\n",
    "proc_data.boxplot('value', by='variable', grid=False, figsize=(9,6))\n",
    "plt.show()"
   ]
  },
  {
   "cell_type": "markdown",
   "metadata": {},
   "source": [
    "As we can see from the graph, the highest mean is from Treatment 2, while the lowest is from Treatment 3."
   ]
  },
  {
   "cell_type": "markdown",
   "metadata": {},
   "source": [
    "## Exercise 11.1.24"
   ]
  },
  {
   "cell_type": "code",
   "execution_count": 32,
   "metadata": {},
   "outputs": [
    {
     "name": "stdout",
     "output_type": "stream",
     "text": [
      "   Location 1  Location 2  Location 3  Location 4  Location 5   Location 6\n",
      "0          32          27          25          36          42           45\n",
      "1          28          28          31          37          40           42\n",
      "2          25          33          30          38          45           44\n",
      "3          31          27          29          37          41           43\n",
      "\n",
      "ANOVA TABLE\n",
      "                df      sum_sq     mean_sq          F        PR(>F)\n",
      "C(variable)   5.0  956.833333  191.366667  35.695337  9.856804e-09\n",
      "Residual     18.0   96.500000    5.361111        NaN           NaN\n",
      "\n",
      " Multiple Comparison of Means - Tukey HSD, FWER=0.05 \n",
      "====================================================\n",
      "group1 group2 meandiff p-adj   lower   upper  reject\n",
      "----------------------------------------------------\n",
      "     0      1    -0.25    0.9 -5.4534  4.9534  False\n",
      "     0      2    -0.25    0.9 -5.4534  4.9534  False\n",
      "     0      3      8.0 0.0014  2.7966 13.2034   True\n",
      "     0      4     13.0  0.001  7.7966 18.2034   True\n",
      "     0      5     14.5  0.001  9.2966 19.7034   True\n",
      "     1      2      0.0    0.9 -5.2034  5.2034  False\n",
      "     1      3     8.25  0.001  3.0466 13.4534   True\n",
      "     1      4    13.25  0.001  8.0466 18.4534   True\n",
      "     1      5    14.75  0.001  9.5466 19.9534   True\n",
      "     2      3     8.25  0.001  3.0466 13.4534   True\n",
      "     2      4    13.25  0.001  8.0466 18.4534   True\n",
      "     2      5    14.75  0.001  9.5466 19.9534   True\n",
      "     3      4      5.0 0.0638 -0.2034 10.2034  False\n",
      "     3      5      6.5 0.0098  1.2966 11.7034   True\n",
      "     4      5      1.5    0.9 -3.7034  6.7034  False\n",
      "----------------------------------------------------\n"
     ]
    },
    {
     "data": {
      "image/png": "[encoded data removed]",
      "text/plain": [
       "<Figure size 648x432 with 1 Axes>"
      ]
     },
     "metadata": {
      "needs_background": "light"
     },
     "output_type": "display_data"
    }
   ],
   "source": [
    "# Data loader\n",
    "data = pd.read_excel('DS 11.1.9.xls') # Tranform file to csv\n",
    "print(data)\n",
    "\n",
    "# Data processing\n",
    "value_vars = []\n",
    "for i in range(len(data.columns)): \n",
    "    value_vars.append(i) # count number of colums\n",
    "data = data.T.reset_index(drop=True).T\n",
    "proc_data = pd.melt(data, value_vars=value_vars)\n",
    "proc_data.dropna(subset = ['value'], inplace=True)\n",
    "\n",
    "# Anova table\n",
    "model = ols('value ~ C(variable)', proc_data).fit()\n",
    "print(\"\\nANOVA TABLE\\n\",anova_lm(model))\n",
    "\n",
    "# Tukey comparison\n",
    "comp = pairwise_tukeyhsd(proc_data['value'], proc_data['variable'], alpha=0.05)\n",
    "print('\\n', comp)\n",
    "\n",
    "# Boxplots\n",
    "proc_data.boxplot('value', by='variable', grid=False, figsize=(9,6))\n",
    "plt.show()"
   ]
  },
  {
   "cell_type": "markdown",
   "metadata": {},
   "source": [
    "The $p$-value is small and therefore we can conclude that there is sufficient evidence that E. Coli pollution levels are not the same in all the five locations.\n",
    "\n",
    "The location with the highest mean E. Coli concentration is the location 6, while location 2 has the lowest mean. The lowest total pollution level is then either in location 1, 2 or 3 while the highest is either at 5 or 6. These data make physical sense, because we notice the concentration of the bacterium level decreases the further downstream we go; which means, we are moving away from the upstream source."
   ]
  }
 ],
 "metadata": {
  "kernelspec": {
   "display_name": "Python 3",
   "language": "python",
   "name": "python3"
  },
  "language_info": {
   "codemirror_mode": {
    "name": "ipython",
    "version": 3
   },
   "file_extension": ".py",
   "mimetype": "text/x-python",
   "name": "python",
   "nbconvert_exporter": "python",
   "pygments_lexer": "ipython3",
   "version": "3.8.5"
  }
 },
 "nbformat": 4,
 "nbformat_minor": 4
}
